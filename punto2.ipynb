{
 "cells": [
  {
   "cell_type": "code",
   "execution_count": 1,
   "metadata": {
    "collapsed": false
   },
   "outputs": [
    {
     "name": "stdout",
     "output_type": "stream",
     "text": [
      "Populating the interactive namespace from numpy and matplotlib\n"
     ]
    }
   ],
   "source": [
    "import numpy as np\n",
    "import matplotlib.pyplot as plt\n",
    "import sklearn as sk\n",
    "import pandas as pd\n",
    "%pylab inline "
   ]
  },
  {
   "cell_type": "code",
   "execution_count": 2,
   "metadata": {
    "collapsed": false
   },
   "outputs": [
    {
     "data": {
      "text/html": [
       "<div style=\"max-height:1000px;max-width:1500px;overflow:auto;\">\n",
       "<table border=\"1\" class=\"dataframe\">\n",
       "  <thead>\n",
       "    <tr style=\"text-align: right;\">\n",
       "      <th></th>\n",
       "      <th>ident</th>\n",
       "      <th>it</th>\n",
       "      <th>t</th>\n",
       "      <th>a(i)</th>\n",
       "      <th>emegas(i)</th>\n",
       "      <th>emepla(i)/emet</th>\n",
       "      <th>rplanet(i)/radtie</th>\n",
       "      <th>emestar</th>\n",
       "      <th>rc</th>\n",
       "      <th>qest</th>\n",
       "      <th>sigmag_0</th>\n",
       "      <th>emed</th>\n",
       "      <th>gama</th>\n",
       "      <th>apert</th>\n",
       "      <th>fpert</th>\n",
       "      <th>constmigI</th>\n",
       "      <th>emetal</th>\n",
       "      <th>taugas</th>\n",
       "    </tr>\n",
       "  </thead>\n",
       "  <tbody>\n",
       "    <tr>\n",
       "      <th>0</th>\n",
       "      <td> 0</td>\n",
       "      <td> 199993</td>\n",
       "      <td> 20000001</td>\n",
       "      <td> 0.030237</td>\n",
       "      <td> 0.004911</td>\n",
       "      <td> 1.904923</td>\n",
       "      <td>    1.9029824602178687      </td>\n",
       "      <td> 4.368174e+32</td>\n",
       "      <td> 59.88237</td>\n",
       "      <td> 1.110726</td>\n",
       "      <td> 51.287674</td>\n",
       "      <td> 0.13</td>\n",
       "      <td> 1</td>\n",
       "      <td> 0.3</td>\n",
       "      <td> 1</td>\n",
       "      <td> 0.1</td>\n",
       "      <td> 0.07707</td>\n",
       "      <td> 9268935</td>\n",
       "    </tr>\n",
       "    <tr>\n",
       "      <th>1</th>\n",
       "      <td> 0</td>\n",
       "      <td> 199993</td>\n",
       "      <td> 20000001</td>\n",
       "      <td> 0.818832</td>\n",
       "      <td> 0.000238</td>\n",
       "      <td> 1.642056</td>\n",
       "      <td>    1.8150047639338782      </td>\n",
       "      <td> 4.368174e+32</td>\n",
       "      <td> 59.88237</td>\n",
       "      <td> 1.110726</td>\n",
       "      <td> 51.287674</td>\n",
       "      <td> 0.13</td>\n",
       "      <td> 1</td>\n",
       "      <td> 0.3</td>\n",
       "      <td> 1</td>\n",
       "      <td> 0.1</td>\n",
       "      <td> 0.07707</td>\n",
       "      <td> 9268935</td>\n",
       "    </tr>\n",
       "    <tr>\n",
       "      <th>2</th>\n",
       "      <td> 0</td>\n",
       "      <td> 199993</td>\n",
       "      <td> 20000001</td>\n",
       "      <td> 2.124022</td>\n",
       "      <td> 0.000000</td>\n",
       "      <td> 1.786051</td>\n",
       "      <td>    1.8659921485803184      </td>\n",
       "      <td> 4.368174e+32</td>\n",
       "      <td> 59.88237</td>\n",
       "      <td> 1.110726</td>\n",
       "      <td> 51.287674</td>\n",
       "      <td> 0.13</td>\n",
       "      <td> 1</td>\n",
       "      <td> 0.3</td>\n",
       "      <td> 1</td>\n",
       "      <td> 0.1</td>\n",
       "      <td> 0.07707</td>\n",
       "      <td> 9268935</td>\n",
       "    </tr>\n",
       "    <tr>\n",
       "      <th>3</th>\n",
       "      <td> 0</td>\n",
       "      <td> 199993</td>\n",
       "      <td> 20000001</td>\n",
       "      <td> 5.123330</td>\n",
       "      <td> 0.000000</td>\n",
       "      <td> 0.843418</td>\n",
       "      <td>    1.4538852266916131      </td>\n",
       "      <td> 4.368174e+32</td>\n",
       "      <td> 59.88237</td>\n",
       "      <td> 1.110726</td>\n",
       "      <td> 51.287674</td>\n",
       "      <td> 0.13</td>\n",
       "      <td> 1</td>\n",
       "      <td> 0.3</td>\n",
       "      <td> 1</td>\n",
       "      <td> 0.1</td>\n",
       "      <td> 0.07707</td>\n",
       "      <td> 9268935</td>\n",
       "    </tr>\n",
       "    <tr>\n",
       "      <th>4</th>\n",
       "      <td> 0</td>\n",
       "      <td> 199993</td>\n",
       "      <td> 20000001</td>\n",
       "      <td> 6.932367</td>\n",
       "      <td> 0.000000</td>\n",
       "      <td> 0.477013</td>\n",
       "      <td>    1.2031125383842882      </td>\n",
       "      <td> 4.368174e+32</td>\n",
       "      <td> 59.88237</td>\n",
       "      <td> 1.110726</td>\n",
       "      <td> 51.287674</td>\n",
       "      <td> 0.13</td>\n",
       "      <td> 1</td>\n",
       "      <td> 0.3</td>\n",
       "      <td> 1</td>\n",
       "      <td> 0.1</td>\n",
       "      <td> 0.07707</td>\n",
       "      <td> 9268935</td>\n",
       "    </tr>\n",
       "  </tbody>\n",
       "</table>\n",
       "</div>"
      ],
      "text/plain": [
       "   ident      it         t      a(i)  emegas(i)  emepla(i)/emet  \\\n",
       "0      0  199993  20000001  0.030237   0.004911        1.904923   \n",
       "1      0  199993  20000001  0.818832   0.000238        1.642056   \n",
       "2      0  199993  20000001  2.124022   0.000000        1.786051   \n",
       "3      0  199993  20000001  5.123330   0.000000        0.843418   \n",
       "4      0  199993  20000001  6.932367   0.000000        0.477013   \n",
       "\n",
       "             rplanet(i)/radtie       emestar        rc      qest   sigmag_0  \\\n",
       "0     1.9029824602178687        4.368174e+32  59.88237  1.110726  51.287674   \n",
       "1     1.8150047639338782        4.368174e+32  59.88237  1.110726  51.287674   \n",
       "2     1.8659921485803184        4.368174e+32  59.88237  1.110726  51.287674   \n",
       "3     1.4538852266916131        4.368174e+32  59.88237  1.110726  51.287674   \n",
       "4     1.2031125383842882        4.368174e+32  59.88237  1.110726  51.287674   \n",
       "\n",
       "   emed  gama  apert  fpert  constmigI   emetal   taugas  \n",
       "0  0.13     1    0.3      1        0.1  0.07707  9268935  \n",
       "1  0.13     1    0.3      1        0.1  0.07707  9268935  \n",
       "2  0.13     1    0.3      1        0.1  0.07707  9268935  \n",
       "3  0.13     1    0.3      1        0.1  0.07707  9268935  \n",
       "4  0.13     1    0.3      1        0.1  0.07707  9268935  "
      ]
     },
     "execution_count": 2,
     "metadata": {},
     "output_type": "execute_result"
    }
   ],
   "source": [
    "# Loading data from source\n",
    "high = pd.read_csv('data/highp_finalresults.csv')\n",
    "low = pd.read_csv('data/lowp_finalresults.csv')\n",
    "high.head()"
   ]
  },
  {
   "cell_type": "code",
   "execution_count": 3,
   "metadata": {
    "collapsed": false
   },
   "outputs": [
    {
     "data": {
      "text/html": [
       "<div style=\"max-height:1000px;max-width:1500px;overflow:auto;\">\n",
       "<table border=\"1\" class=\"dataframe\">\n",
       "  <thead>\n",
       "    <tr style=\"text-align: right;\">\n",
       "      <th></th>\n",
       "      <th>ident</th>\n",
       "      <th>it</th>\n",
       "      <th>t</th>\n",
       "      <th>a(i)</th>\n",
       "      <th>emegas(i)</th>\n",
       "      <th>emepla(i)/emet</th>\n",
       "      <th>rplanet(i)/radtie</th>\n",
       "      <th>emestar</th>\n",
       "      <th>rc</th>\n",
       "      <th>qest</th>\n",
       "      <th>sigmag_0</th>\n",
       "      <th>emed</th>\n",
       "      <th>gama</th>\n",
       "      <th>apert</th>\n",
       "      <th>fpert</th>\n",
       "      <th>constmigI</th>\n",
       "      <th>emetal</th>\n",
       "      <th>taugas</th>\n",
       "    </tr>\n",
       "  </thead>\n",
       "  <tbody>\n",
       "    <tr>\n",
       "      <th>31813</th>\n",
       "      <td> 2974</td>\n",
       "      <td> 199890</td>\n",
       "      <td> 20000001</td>\n",
       "      <td> 4.495716</td>\n",
       "      <td> 0</td>\n",
       "      <td> 0.594153</td>\n",
       "      <td>    1.2944807364978042      </td>\n",
       "      <td> 4.092467e+32</td>\n",
       "      <td> 50.698605</td>\n",
       "      <td> 6.853647</td>\n",
       "      <td> 9.907135</td>\n",
       "      <td> 0.018</td>\n",
       "      <td> 1</td>\n",
       "      <td> 0.1</td>\n",
       "      <td> 1</td>\n",
       "      <td> 0.1</td>\n",
       "      <td> 0.408212</td>\n",
       "      <td> 7710610.5</td>\n",
       "    </tr>\n",
       "    <tr>\n",
       "      <th>31814</th>\n",
       "      <td> 2974</td>\n",
       "      <td> 199890</td>\n",
       "      <td> 20000001</td>\n",
       "      <td> 5.055471</td>\n",
       "      <td> 0</td>\n",
       "      <td> 0.374487</td>\n",
       "      <td>    1.1100260808524707      </td>\n",
       "      <td> 4.092467e+32</td>\n",
       "      <td> 50.698605</td>\n",
       "      <td> 6.853647</td>\n",
       "      <td> 9.907135</td>\n",
       "      <td> 0.018</td>\n",
       "      <td> 1</td>\n",
       "      <td> 0.1</td>\n",
       "      <td> 1</td>\n",
       "      <td> 0.1</td>\n",
       "      <td> 0.408212</td>\n",
       "      <td> 7710610.5</td>\n",
       "    </tr>\n",
       "    <tr>\n",
       "      <th>31815</th>\n",
       "      <td> 2974</td>\n",
       "      <td> 199890</td>\n",
       "      <td> 20000001</td>\n",
       "      <td> 5.741148</td>\n",
       "      <td> 0</td>\n",
       "      <td> 0.254932</td>\n",
       "      <td>   0.97674134618047792      </td>\n",
       "      <td> 4.092467e+32</td>\n",
       "      <td> 50.698605</td>\n",
       "      <td> 6.853647</td>\n",
       "      <td> 9.907135</td>\n",
       "      <td> 0.018</td>\n",
       "      <td> 1</td>\n",
       "      <td> 0.1</td>\n",
       "      <td> 1</td>\n",
       "      <td> 0.1</td>\n",
       "      <td> 0.408212</td>\n",
       "      <td> 7710610.5</td>\n",
       "    </tr>\n",
       "    <tr>\n",
       "      <th>31816</th>\n",
       "      <td> 2974</td>\n",
       "      <td> 199890</td>\n",
       "      <td> 20000001</td>\n",
       "      <td> 6.215687</td>\n",
       "      <td> 0</td>\n",
       "      <td> 0.111676</td>\n",
       "      <td>   0.74183642795434679      </td>\n",
       "      <td> 4.092467e+32</td>\n",
       "      <td> 50.698605</td>\n",
       "      <td> 6.853647</td>\n",
       "      <td> 9.907135</td>\n",
       "      <td> 0.018</td>\n",
       "      <td> 1</td>\n",
       "      <td> 0.1</td>\n",
       "      <td> 1</td>\n",
       "      <td> 0.1</td>\n",
       "      <td> 0.408212</td>\n",
       "      <td> 7710610.5</td>\n",
       "    </tr>\n",
       "    <tr>\n",
       "      <th>31817</th>\n",
       "      <td> 2974</td>\n",
       "      <td> 199890</td>\n",
       "      <td> 20000001</td>\n",
       "      <td> 7.612730</td>\n",
       "      <td> 0</td>\n",
       "      <td> 0.064155</td>\n",
       "      <td>   0.61682163672276424      </td>\n",
       "      <td> 4.092467e+32</td>\n",
       "      <td> 50.698605</td>\n",
       "      <td> 6.853647</td>\n",
       "      <td> 9.907135</td>\n",
       "      <td> 0.018</td>\n",
       "      <td> 1</td>\n",
       "      <td> 0.1</td>\n",
       "      <td> 1</td>\n",
       "      <td> 0.1</td>\n",
       "      <td> 0.408212</td>\n",
       "      <td> 7710610.5</td>\n",
       "    </tr>\n",
       "  </tbody>\n",
       "</table>\n",
       "</div>"
      ],
      "text/plain": [
       "       ident      it         t      a(i)  emegas(i)  emepla(i)/emet  \\\n",
       "31813   2974  199890  20000001  4.495716          0        0.594153   \n",
       "31814   2974  199890  20000001  5.055471          0        0.374487   \n",
       "31815   2974  199890  20000001  5.741148          0        0.254932   \n",
       "31816   2974  199890  20000001  6.215687          0        0.111676   \n",
       "31817   2974  199890  20000001  7.612730          0        0.064155   \n",
       "\n",
       "                 rplanet(i)/radtie       emestar         rc      qest  \\\n",
       "31813     1.2944807364978042        4.092467e+32  50.698605  6.853647   \n",
       "31814     1.1100260808524707        4.092467e+32  50.698605  6.853647   \n",
       "31815    0.97674134618047792        4.092467e+32  50.698605  6.853647   \n",
       "31816    0.74183642795434679        4.092467e+32  50.698605  6.853647   \n",
       "31817    0.61682163672276424        4.092467e+32  50.698605  6.853647   \n",
       "\n",
       "       sigmag_0   emed  gama  apert  fpert  constmigI    emetal     taugas  \n",
       "31813  9.907135  0.018     1    0.1      1        0.1  0.408212  7710610.5  \n",
       "31814  9.907135  0.018     1    0.1      1        0.1  0.408212  7710610.5  \n",
       "31815  9.907135  0.018     1    0.1      1        0.1  0.408212  7710610.5  \n",
       "31816  9.907135  0.018     1    0.1      1        0.1  0.408212  7710610.5  \n",
       "31817  9.907135  0.018     1    0.1      1        0.1  0.408212  7710610.5  "
      ]
     },
     "execution_count": 3,
     "metadata": {},
     "output_type": "execute_result"
    }
   ],
   "source": [
    "low.tail()"
   ]
  },
  {
   "cell_type": "code",
   "execution_count": 4,
   "metadata": {
    "collapsed": false
   },
   "outputs": [
    {
     "data": {
      "text/html": [
       "<div style=\"max-height:1000px;max-width:1500px;overflow:auto;\">\n",
       "<table border=\"1\" class=\"dataframe\">\n",
       "  <thead>\n",
       "    <tr style=\"text-align: right;\">\n",
       "      <th></th>\n",
       "      <th>ident</th>\n",
       "      <th>it</th>\n",
       "      <th>t</th>\n",
       "      <th>a(i)</th>\n",
       "      <th>emegas(i)</th>\n",
       "      <th>emepla(i)/emet</th>\n",
       "      <th>emestar</th>\n",
       "      <th>rc</th>\n",
       "      <th>qest</th>\n",
       "      <th>sigmag_0</th>\n",
       "      <th>emed</th>\n",
       "      <th>gama</th>\n",
       "      <th>apert</th>\n",
       "      <th>fpert</th>\n",
       "      <th>constmigI</th>\n",
       "      <th>emetal</th>\n",
       "      <th>taugas</th>\n",
       "    </tr>\n",
       "  </thead>\n",
       "  <tbody>\n",
       "    <tr>\n",
       "      <th>count</th>\n",
       "      <td> 32465.000000</td>\n",
       "      <td>  32465.000000</td>\n",
       "      <td>    32465</td>\n",
       "      <td> 32465.000000</td>\n",
       "      <td> 3.246500e+04</td>\n",
       "      <td> 32465.000000</td>\n",
       "      <td> 3.246500e+04</td>\n",
       "      <td> 32465.000000</td>\n",
       "      <td> 32465.000000</td>\n",
       "      <td> 32465.000000</td>\n",
       "      <td> 32465.000000</td>\n",
       "      <td> 32465</td>\n",
       "      <td> 32465.0</td>\n",
       "      <td> 32465</td>\n",
       "      <td> 3.246500e+04</td>\n",
       "      <td> 32465.000000</td>\n",
       "      <td>   32465.000000</td>\n",
       "    </tr>\n",
       "    <tr>\n",
       "      <th>mean</th>\n",
       "      <td>  1483.424457</td>\n",
       "      <td> 197467.410966</td>\n",
       "      <td> 20000001</td>\n",
       "      <td>     3.400574</td>\n",
       "      <td> 7.167241e+00</td>\n",
       "      <td>     7.630333</td>\n",
       "      <td> 5.749874e+32</td>\n",
       "      <td>    45.545752</td>\n",
       "      <td>     5.963431</td>\n",
       "      <td>    32.194985</td>\n",
       "      <td>     0.043325</td>\n",
       "      <td>     1</td>\n",
       "      <td>     0.3</td>\n",
       "      <td>     1</td>\n",
       "      <td> 1.000000e-01</td>\n",
       "      <td>    -0.001367</td>\n",
       "      <td> 3801386.541862</td>\n",
       "    </tr>\n",
       "    <tr>\n",
       "      <th>std</th>\n",
       "      <td>   859.799152</td>\n",
       "      <td>   8122.269582</td>\n",
       "      <td>        0</td>\n",
       "      <td>     3.696724</td>\n",
       "      <td> 2.198142e+02</td>\n",
       "      <td>   219.589599</td>\n",
       "      <td> 2.784088e+32</td>\n",
       "      <td>     8.270644</td>\n",
       "      <td>     4.245843</td>\n",
       "      <td>    33.406671</td>\n",
       "      <td>     0.039576</td>\n",
       "      <td>     0</td>\n",
       "      <td>     0.0</td>\n",
       "      <td>     0</td>\n",
       "      <td> 1.871346e-09</td>\n",
       "      <td>     0.211647</td>\n",
       "      <td> 2503499.813300</td>\n",
       "    </tr>\n",
       "    <tr>\n",
       "      <th>min</th>\n",
       "      <td>     0.000000</td>\n",
       "      <td>   9292.000000</td>\n",
       "      <td> 20000001</td>\n",
       "      <td>     0.002813</td>\n",
       "      <td> 0.000000e+00</td>\n",
       "      <td>     0.050002</td>\n",
       "      <td> 2.005149e+32</td>\n",
       "      <td>    25.340290</td>\n",
       "      <td>     1.007152</td>\n",
       "      <td>     1.515903</td>\n",
       "      <td>     0.003100</td>\n",
       "      <td>     1</td>\n",
       "      <td>     0.3</td>\n",
       "      <td>     1</td>\n",
       "      <td> 1.000000e-01</td>\n",
       "      <td>    -0.688720</td>\n",
       "      <td> 1001011.375000</td>\n",
       "    </tr>\n",
       "    <tr>\n",
       "      <th>25%</th>\n",
       "      <td>   739.000000</td>\n",
       "      <td> 198311.000000</td>\n",
       "      <td> 20000001</td>\n",
       "      <td>     0.913345</td>\n",
       "      <td> 0.000000e+00</td>\n",
       "      <td>     0.098376</td>\n",
       "      <td> 3.379212e+32</td>\n",
       "      <td>    39.816555</td>\n",
       "      <td>     2.955550</td>\n",
       "      <td>    12.484508</td>\n",
       "      <td>     0.019000</td>\n",
       "      <td>     1</td>\n",
       "      <td>     0.3</td>\n",
       "      <td>     1</td>\n",
       "      <td> 1.000000e-01</td>\n",
       "      <td>    -0.145420</td>\n",
       "      <td> 1687664.250000</td>\n",
       "    </tr>\n",
       "    <tr>\n",
       "      <th>50%</th>\n",
       "      <td>  1484.000000</td>\n",
       "      <td> 199620.000000</td>\n",
       "      <td> 20000001</td>\n",
       "      <td>     2.140342</td>\n",
       "      <td> 0.000000e+00</td>\n",
       "      <td>     0.229774</td>\n",
       "      <td> 5.161603e+32</td>\n",
       "      <td>    44.740940</td>\n",
       "      <td>     4.808668</td>\n",
       "      <td>    21.058982</td>\n",
       "      <td>     0.030000</td>\n",
       "      <td>     1</td>\n",
       "      <td>     0.3</td>\n",
       "      <td>     1</td>\n",
       "      <td> 1.000000e-01</td>\n",
       "      <td>     0.000306</td>\n",
       "      <td> 2998146.500000</td>\n",
       "    </tr>\n",
       "    <tr>\n",
       "      <th>75%</th>\n",
       "      <td>  2227.000000</td>\n",
       "      <td> 199907.000000</td>\n",
       "      <td> 20000001</td>\n",
       "      <td>     4.670935</td>\n",
       "      <td> 2.295691e-10</td>\n",
       "      <td>     0.669832</td>\n",
       "      <td> 7.774028e+32</td>\n",
       "      <td>    50.544758</td>\n",
       "      <td>     7.681329</td>\n",
       "      <td>    39.672398</td>\n",
       "      <td>     0.054000</td>\n",
       "      <td>     1</td>\n",
       "      <td>     0.3</td>\n",
       "      <td>     1</td>\n",
       "      <td> 1.000000e-01</td>\n",
       "      <td>     0.143216</td>\n",
       "      <td> 5405266.000000</td>\n",
       "    </tr>\n",
       "    <tr>\n",
       "      <th>max</th>\n",
       "      <td>  2974.000000</td>\n",
       "      <td> 199999.000000</td>\n",
       "      <td> 20000001</td>\n",
       "      <td>    37.368091</td>\n",
       "      <td> 1.963193e+04</td>\n",
       "      <td> 19634.764964</td>\n",
       "      <td> 1.198218e+33</td>\n",
       "      <td>    91.153824</td>\n",
       "      <td>    48.223476</td>\n",
       "      <td>   372.454042</td>\n",
       "      <td>     0.320000</td>\n",
       "      <td>     1</td>\n",
       "      <td>     0.3</td>\n",
       "      <td>     1</td>\n",
       "      <td> 1.000000e-01</td>\n",
       "      <td>     0.774710</td>\n",
       "      <td> 9985367.000000</td>\n",
       "    </tr>\n",
       "  </tbody>\n",
       "</table>\n",
       "</div>"
      ],
      "text/plain": [
       "              ident             it         t          a(i)     emegas(i)  \\\n",
       "count  32465.000000   32465.000000     32465  32465.000000  3.246500e+04   \n",
       "mean    1483.424457  197467.410966  20000001      3.400574  7.167241e+00   \n",
       "std      859.799152    8122.269582         0      3.696724  2.198142e+02   \n",
       "min        0.000000    9292.000000  20000001      0.002813  0.000000e+00   \n",
       "25%      739.000000  198311.000000  20000001      0.913345  0.000000e+00   \n",
       "50%     1484.000000  199620.000000  20000001      2.140342  0.000000e+00   \n",
       "75%     2227.000000  199907.000000  20000001      4.670935  2.295691e-10   \n",
       "max     2974.000000  199999.000000  20000001     37.368091  1.963193e+04   \n",
       "\n",
       "       emepla(i)/emet       emestar            rc          qest      sigmag_0  \\\n",
       "count    32465.000000  3.246500e+04  32465.000000  32465.000000  32465.000000   \n",
       "mean         7.630333  5.749874e+32     45.545752      5.963431     32.194985   \n",
       "std        219.589599  2.784088e+32      8.270644      4.245843     33.406671   \n",
       "min          0.050002  2.005149e+32     25.340290      1.007152      1.515903   \n",
       "25%          0.098376  3.379212e+32     39.816555      2.955550     12.484508   \n",
       "50%          0.229774  5.161603e+32     44.740940      4.808668     21.058982   \n",
       "75%          0.669832  7.774028e+32     50.544758      7.681329     39.672398   \n",
       "max      19634.764964  1.198218e+33     91.153824     48.223476    372.454042   \n",
       "\n",
       "               emed   gama    apert  fpert     constmigI        emetal  \\\n",
       "count  32465.000000  32465  32465.0  32465  3.246500e+04  32465.000000   \n",
       "mean       0.043325      1      0.3      1  1.000000e-01     -0.001367   \n",
       "std        0.039576      0      0.0      0  1.871346e-09      0.211647   \n",
       "min        0.003100      1      0.3      1  1.000000e-01     -0.688720   \n",
       "25%        0.019000      1      0.3      1  1.000000e-01     -0.145420   \n",
       "50%        0.030000      1      0.3      1  1.000000e-01      0.000306   \n",
       "75%        0.054000      1      0.3      1  1.000000e-01      0.143216   \n",
       "max        0.320000      1      0.3      1  1.000000e-01      0.774710   \n",
       "\n",
       "               taugas  \n",
       "count    32465.000000  \n",
       "mean   3801386.541862  \n",
       "std    2503499.813300  \n",
       "min    1001011.375000  \n",
       "25%    1687664.250000  \n",
       "50%    2998146.500000  \n",
       "75%    5405266.000000  \n",
       "max    9985367.000000  "
      ]
     },
     "execution_count": 4,
     "metadata": {},
     "output_type": "execute_result"
    }
   ],
   "source": [
    "high.describe()"
   ]
  },
  {
   "cell_type": "code",
   "execution_count": 5,
   "metadata": {
    "collapsed": false
   },
   "outputs": [
    {
     "data": {
      "text/html": [
       "<div style=\"max-height:1000px;max-width:1500px;overflow:auto;\">\n",
       "<table border=\"1\" class=\"dataframe\">\n",
       "  <thead>\n",
       "    <tr style=\"text-align: right;\">\n",
       "      <th></th>\n",
       "      <th>ident</th>\n",
       "      <th>it</th>\n",
       "      <th>t</th>\n",
       "      <th>a(i)</th>\n",
       "      <th>emegas(i)</th>\n",
       "      <th>emepla(i)/emet</th>\n",
       "      <th>emestar</th>\n",
       "      <th>rc</th>\n",
       "      <th>qest</th>\n",
       "      <th>sigmag_0</th>\n",
       "      <th>emed</th>\n",
       "      <th>gama</th>\n",
       "      <th>apert</th>\n",
       "      <th>fpert</th>\n",
       "      <th>constmigI</th>\n",
       "      <th>emetal</th>\n",
       "      <th>taugas</th>\n",
       "    </tr>\n",
       "  </thead>\n",
       "  <tbody>\n",
       "    <tr>\n",
       "      <th>count</th>\n",
       "      <td> 31818.000000</td>\n",
       "      <td>  31818.000000</td>\n",
       "      <td>    31818</td>\n",
       "      <td> 31818.000000</td>\n",
       "      <td> 3.181800e+04</td>\n",
       "      <td> 31818.000000</td>\n",
       "      <td> 3.181800e+04</td>\n",
       "      <td> 31818.000000</td>\n",
       "      <td> 31818.000000</td>\n",
       "      <td> 31818.000000</td>\n",
       "      <td> 31818.000000</td>\n",
       "      <td> 31818</td>\n",
       "      <td> 31818.0</td>\n",
       "      <td> 31818</td>\n",
       "      <td> 3.181800e+04</td>\n",
       "      <td> 31818.000000</td>\n",
       "      <td>   31818.000000</td>\n",
       "    </tr>\n",
       "    <tr>\n",
       "      <th>mean</th>\n",
       "      <td>  1483.921742</td>\n",
       "      <td> 197203.880068</td>\n",
       "      <td> 20000001</td>\n",
       "      <td>     3.427210</td>\n",
       "      <td> 9.246545e+00</td>\n",
       "      <td>     9.686454</td>\n",
       "      <td> 5.849130e+32</td>\n",
       "      <td>    45.464044</td>\n",
       "      <td>     5.840116</td>\n",
       "      <td>    33.392593</td>\n",
       "      <td>     0.044799</td>\n",
       "      <td>     1</td>\n",
       "      <td>     0.1</td>\n",
       "      <td>     1</td>\n",
       "      <td> 1.000000e-01</td>\n",
       "      <td>     0.000018</td>\n",
       "      <td> 3872819.741249</td>\n",
       "    </tr>\n",
       "    <tr>\n",
       "      <th>std</th>\n",
       "      <td>   858.855403</td>\n",
       "      <td>   8603.353319</td>\n",
       "      <td>        0</td>\n",
       "      <td>     3.677722</td>\n",
       "      <td> 3.013759e+02</td>\n",
       "      <td>   301.194360</td>\n",
       "      <td> 2.818730e+32</td>\n",
       "      <td>     8.256636</td>\n",
       "      <td>     4.190124</td>\n",
       "      <td>    34.231217</td>\n",
       "      <td>     0.040328</td>\n",
       "      <td>     0</td>\n",
       "      <td>     0.0</td>\n",
       "      <td>     0</td>\n",
       "      <td> 1.890277e-09</td>\n",
       "      <td>     0.211657</td>\n",
       "      <td> 2531576.085274</td>\n",
       "    </tr>\n",
       "    <tr>\n",
       "      <th>min</th>\n",
       "      <td>     0.000000</td>\n",
       "      <td>   2219.000000</td>\n",
       "      <td> 20000001</td>\n",
       "      <td>     0.002920</td>\n",
       "      <td> 0.000000e+00</td>\n",
       "      <td>     0.050000</td>\n",
       "      <td> 2.005149e+32</td>\n",
       "      <td>    25.340290</td>\n",
       "      <td>     1.007152</td>\n",
       "      <td>     1.515903</td>\n",
       "      <td>     0.003100</td>\n",
       "      <td>     1</td>\n",
       "      <td>     0.1</td>\n",
       "      <td>     1</td>\n",
       "      <td> 1.000000e-01</td>\n",
       "      <td>    -0.688720</td>\n",
       "      <td> 1001011.375000</td>\n",
       "    </tr>\n",
       "    <tr>\n",
       "      <th>25%</th>\n",
       "      <td>   744.000000</td>\n",
       "      <td> 198116.000000</td>\n",
       "      <td> 20000001</td>\n",
       "      <td>     0.959344</td>\n",
       "      <td> 0.000000e+00</td>\n",
       "      <td>     0.099108</td>\n",
       "      <td> 3.424640e+32</td>\n",
       "      <td>    39.637379</td>\n",
       "      <td>     2.885965</td>\n",
       "      <td>    13.020100</td>\n",
       "      <td>     0.019000</td>\n",
       "      <td>     1</td>\n",
       "      <td>     0.1</td>\n",
       "      <td>     1</td>\n",
       "      <td> 1.000000e-01</td>\n",
       "      <td>    -0.144467</td>\n",
       "      <td> 1716789.500000</td>\n",
       "    </tr>\n",
       "    <tr>\n",
       "      <th>50%</th>\n",
       "      <td>  1486.000000</td>\n",
       "      <td> 199593.000000</td>\n",
       "      <td> 20000001</td>\n",
       "      <td>     2.174640</td>\n",
       "      <td> 0.000000e+00</td>\n",
       "      <td>     0.236658</td>\n",
       "      <td> 5.265640e+32</td>\n",
       "      <td>    44.679085</td>\n",
       "      <td>     4.708793</td>\n",
       "      <td>    22.150014</td>\n",
       "      <td>     0.031000</td>\n",
       "      <td>     1</td>\n",
       "      <td>     0.1</td>\n",
       "      <td>     1</td>\n",
       "      <td> 1.000000e-01</td>\n",
       "      <td>     0.001603</td>\n",
       "      <td> 3071022.500000</td>\n",
       "    </tr>\n",
       "    <tr>\n",
       "      <th>75%</th>\n",
       "      <td>  2229.000000</td>\n",
       "      <td> 199903.000000</td>\n",
       "      <td> 20000001</td>\n",
       "      <td>     4.676797</td>\n",
       "      <td> 1.394413e-10</td>\n",
       "      <td>     0.697109</td>\n",
       "      <td> 7.960997e+32</td>\n",
       "      <td>    50.480225</td>\n",
       "      <td>     7.520444</td>\n",
       "      <td>    41.050120</td>\n",
       "      <td>     0.056000</td>\n",
       "      <td>     1</td>\n",
       "      <td>     0.1</td>\n",
       "      <td>     1</td>\n",
       "      <td> 1.000000e-01</td>\n",
       "      <td>     0.144376</td>\n",
       "      <td> 5562983.500000</td>\n",
       "    </tr>\n",
       "    <tr>\n",
       "      <th>max</th>\n",
       "      <td>  2974.000000</td>\n",
       "      <td> 199998.000000</td>\n",
       "      <td> 20000001</td>\n",
       "      <td>    38.434044</td>\n",
       "      <td> 2.533239e+04</td>\n",
       "      <td> 25335.050144</td>\n",
       "      <td> 1.198218e+33</td>\n",
       "      <td>    91.153824</td>\n",
       "      <td>    48.223476</td>\n",
       "      <td>   372.454042</td>\n",
       "      <td>     0.320000</td>\n",
       "      <td>     1</td>\n",
       "      <td>     0.1</td>\n",
       "      <td>     1</td>\n",
       "      <td> 1.000000e-01</td>\n",
       "      <td>     0.774710</td>\n",
       "      <td> 9985367.000000</td>\n",
       "    </tr>\n",
       "  </tbody>\n",
       "</table>\n",
       "</div>"
      ],
      "text/plain": [
       "              ident             it         t          a(i)     emegas(i)  \\\n",
       "count  31818.000000   31818.000000     31818  31818.000000  3.181800e+04   \n",
       "mean    1483.921742  197203.880068  20000001      3.427210  9.246545e+00   \n",
       "std      858.855403    8603.353319         0      3.677722  3.013759e+02   \n",
       "min        0.000000    2219.000000  20000001      0.002920  0.000000e+00   \n",
       "25%      744.000000  198116.000000  20000001      0.959344  0.000000e+00   \n",
       "50%     1486.000000  199593.000000  20000001      2.174640  0.000000e+00   \n",
       "75%     2229.000000  199903.000000  20000001      4.676797  1.394413e-10   \n",
       "max     2974.000000  199998.000000  20000001     38.434044  2.533239e+04   \n",
       "\n",
       "       emepla(i)/emet       emestar            rc          qest      sigmag_0  \\\n",
       "count    31818.000000  3.181800e+04  31818.000000  31818.000000  31818.000000   \n",
       "mean         9.686454  5.849130e+32     45.464044      5.840116     33.392593   \n",
       "std        301.194360  2.818730e+32      8.256636      4.190124     34.231217   \n",
       "min          0.050000  2.005149e+32     25.340290      1.007152      1.515903   \n",
       "25%          0.099108  3.424640e+32     39.637379      2.885965     13.020100   \n",
       "50%          0.236658  5.265640e+32     44.679085      4.708793     22.150014   \n",
       "75%          0.697109  7.960997e+32     50.480225      7.520444     41.050120   \n",
       "max      25335.050144  1.198218e+33     91.153824     48.223476    372.454042   \n",
       "\n",
       "               emed   gama    apert  fpert     constmigI        emetal  \\\n",
       "count  31818.000000  31818  31818.0  31818  3.181800e+04  31818.000000   \n",
       "mean       0.044799      1      0.1      1  1.000000e-01      0.000018   \n",
       "std        0.040328      0      0.0      0  1.890277e-09      0.211657   \n",
       "min        0.003100      1      0.1      1  1.000000e-01     -0.688720   \n",
       "25%        0.019000      1      0.1      1  1.000000e-01     -0.144467   \n",
       "50%        0.031000      1      0.1      1  1.000000e-01      0.001603   \n",
       "75%        0.056000      1      0.1      1  1.000000e-01      0.144376   \n",
       "max        0.320000      1      0.1      1  1.000000e-01      0.774710   \n",
       "\n",
       "               taugas  \n",
       "count    31818.000000  \n",
       "mean   3872819.741249  \n",
       "std    2531576.085274  \n",
       "min    1001011.375000  \n",
       "25%    1716789.500000  \n",
       "50%    3071022.500000  \n",
       "75%    5562983.500000  \n",
       "max    9985367.000000  "
      ]
     },
     "execution_count": 5,
     "metadata": {},
     "output_type": "execute_result"
    }
   ],
   "source": [
    "low.describe()"
   ]
  },
  {
   "cell_type": "markdown",
   "metadata": {},
   "source": [
    "## Data handling \n",
    "\n",
    "---\n",
    "\n",
    "Data are organized in such way that each observation represent a formed planet. We have to collapse data by planetary systems ($ident$). However, before do this we should verify that variables don't have variation between systems. At the end, we must create the final variables to predict:\n",
    "\n",
    "Variables:\n",
    "\n",
    "    1. Number of planets.\n",
    "    2. Planets total mass.\n",
    "    3. Mass efficiency.\n",
    "\n",
    "Tasks:\n",
    "    1. Create final variables.\n",
    "    2. Collapse data by $ident$\n",
    "\n",
    "### Non-Relevant variables\n",
    "\n",
    "There are several variables in each dataFrame that don't give extra information because those don't have variance over the set, for example:\n",
    "    \n",
    "    1. t.\n",
    "    2. gama.\n",
    "    3. fpert.\n",
    "    4. constmigI.\n",
    "    \n",
    "So we can drop them. Futhermore, we can ignore $ident$ information because system identifier should not give any information about the dependet variables.\n",
    "\n",
    "----\n",
    "\n",
    "In the case of the variable $apert$ we have no variation inside sets but variation between groups (high & low). It should be usuful to check if this variable has effect over the dependent variables in order to include $apert$ as a relevant varaible to explain planetary formation. \n",
    "\n",
    "As the sets are divided by $apert$ we have to check if there is a statistical difference over the dependent variables. In order to do that we will use sampling techniques to verify this hypotesis. "
   ]
  },
  {
   "cell_type": "code",
   "execution_count": 6,
   "metadata": {
    "collapsed": false
   },
   "outputs": [],
   "source": [
    "def collapse_by_system(dataFrame):\n",
    "    ident_systems = unique(dataFrame['ident'])\n",
    "    num_systems = len(ident_systems)\n",
    "    print('There is only '+ str(num_systems),'non-empty observations (systems).')\n",
    "    dataFrame_systems = pd.DataFrame(np.nan, index = range(0,0), columns = dataFrame.columns ) \n",
    "\n",
    "    num_planets = np.zeros(num_systems)\n",
    "    solid_mass = np.zeros(num_systems)\n",
    "    mass_efficiency = np.zeros(num_systems)\n",
    "    for sys in range(0,num_systems):\n",
    "        system = ident_systems[sys]\n",
    "        actual = dataFrame[dataFrame['ident'] == system]\n",
    "        num_planets[sys] = actual['ident'].count()\n",
    "        solid_mass[sys] = sum(actual['emepla(i)/emet'])\n",
    "        mass_efficiency[sys] = solid_mass[sys]/np.min(actual['emed'])\n",
    "        dataFrame_systems.loc[sys,:] = actual.iloc[0,:]\n",
    "    \n",
    "    dataFrame_systems['num_planets'] = num_planets\n",
    "    dataFrame_systems['solid_mass'] = solid_mass\n",
    "    dataFrame_systems['mass_efficiency'] = mass_efficiency\n",
    "    \n",
    "    Y_dataFrame = dataFrame_systems[['num_planets','solid_mass','mass_efficiency']]\n",
    "    X_dataFrame = dataFrame_systems[['it', 'emestar', 'rc', 'qest', 'sigmag_0', 'emed', 'apert', 'emetal','taugas']]\n",
    "    return X_dataFrame, Y_dataFrame"
   ]
  },
  {
   "cell_type": "code",
   "execution_count": 7,
   "metadata": {
    "collapsed": false
   },
   "outputs": [
    {
     "name": "stdout",
     "output_type": "stream",
     "text": [
      "('There is only 2770', 'non-empty observations (systems).')\n"
     ]
    }
   ],
   "source": [
    "X_high,Y_high = collapse_by_system(high)"
   ]
  },
  {
   "cell_type": "code",
   "execution_count": 8,
   "metadata": {
    "collapsed": false
   },
   "outputs": [
    {
     "name": "stdout",
     "output_type": "stream",
     "text": [
      "('There is only 2735', 'non-empty observations (systems).')\n"
     ]
    }
   ],
   "source": [
    "X_low,Y_low = collapse_by_system(low)"
   ]
  },
  {
   "cell_type": "code",
   "execution_count": 9,
   "metadata": {
    "collapsed": false
   },
   "outputs": [
    {
     "data": {
      "text/html": [
       "<div style=\"max-height:1000px;max-width:1500px;overflow:auto;\">\n",
       "<table border=\"1\" class=\"dataframe\">\n",
       "  <thead>\n",
       "    <tr style=\"text-align: right;\">\n",
       "      <th></th>\n",
       "      <th>num_planets</th>\n",
       "      <th>solid_mass</th>\n",
       "      <th>mass_efficiency</th>\n",
       "    </tr>\n",
       "  </thead>\n",
       "  <tbody>\n",
       "    <tr>\n",
       "      <th>count</th>\n",
       "      <td> 2770.000000</td>\n",
       "      <td>  2770.000000</td>\n",
       "      <td>  2770.000000</td>\n",
       "    </tr>\n",
       "    <tr>\n",
       "      <th>mean</th>\n",
       "      <td>   11.720217</td>\n",
       "      <td>    89.429150</td>\n",
       "      <td>   793.714892</td>\n",
       "    </tr>\n",
       "    <tr>\n",
       "      <th>std</th>\n",
       "      <td>    4.113511</td>\n",
       "      <td>   781.593890</td>\n",
       "      <td>  4431.444540</td>\n",
       "    </tr>\n",
       "    <tr>\n",
       "      <th>min</th>\n",
       "      <td>    1.000000</td>\n",
       "      <td>     0.050170</td>\n",
       "      <td>     2.365703</td>\n",
       "    </tr>\n",
       "    <tr>\n",
       "      <th>25%</th>\n",
       "      <td>    9.000000</td>\n",
       "      <td>     2.584679</td>\n",
       "      <td>    89.409493</td>\n",
       "    </tr>\n",
       "    <tr>\n",
       "      <th>50%</th>\n",
       "      <td>   11.500000</td>\n",
       "      <td>     5.692946</td>\n",
       "      <td>   152.231581</td>\n",
       "    </tr>\n",
       "    <tr>\n",
       "      <th>75%</th>\n",
       "      <td>   14.000000</td>\n",
       "      <td>     9.599401</td>\n",
       "      <td>   249.726699</td>\n",
       "    </tr>\n",
       "    <tr>\n",
       "      <th>max</th>\n",
       "      <td>   26.000000</td>\n",
       "      <td> 19642.994561</td>\n",
       "      <td> 84267.424685</td>\n",
       "    </tr>\n",
       "  </tbody>\n",
       "</table>\n",
       "</div>"
      ],
      "text/plain": [
       "       num_planets    solid_mass  mass_efficiency\n",
       "count  2770.000000   2770.000000      2770.000000\n",
       "mean     11.720217     89.429150       793.714892\n",
       "std       4.113511    781.593890      4431.444540\n",
       "min       1.000000      0.050170         2.365703\n",
       "25%       9.000000      2.584679        89.409493\n",
       "50%      11.500000      5.692946       152.231581\n",
       "75%      14.000000      9.599401       249.726699\n",
       "max      26.000000  19642.994561     84267.424685"
      ]
     },
     "execution_count": 9,
     "metadata": {},
     "output_type": "execute_result"
    }
   ],
   "source": [
    "Y_high.describe()"
   ]
  },
  {
   "cell_type": "code",
   "execution_count": 10,
   "metadata": {
    "collapsed": false
   },
   "outputs": [
    {
     "data": {
      "text/html": [
       "<div style=\"max-height:1000px;max-width:1500px;overflow:auto;\">\n",
       "<table border=\"1\" class=\"dataframe\">\n",
       "  <thead>\n",
       "    <tr style=\"text-align: right;\">\n",
       "      <th></th>\n",
       "      <th>num_planets</th>\n",
       "      <th>solid_mass</th>\n",
       "      <th>mass_efficiency</th>\n",
       "    </tr>\n",
       "  </thead>\n",
       "  <tbody>\n",
       "    <tr>\n",
       "      <th>count</th>\n",
       "      <td> 2735.000000</td>\n",
       "      <td>  2735.000000</td>\n",
       "      <td>  2735.000000</td>\n",
       "    </tr>\n",
       "    <tr>\n",
       "      <th>mean</th>\n",
       "      <td>   11.633638</td>\n",
       "      <td>   112.688695</td>\n",
       "      <td>   864.516450</td>\n",
       "    </tr>\n",
       "    <tr>\n",
       "      <th>std</th>\n",
       "      <td>    3.814312</td>\n",
       "      <td>  1032.425930</td>\n",
       "      <td>  5256.659310</td>\n",
       "    </tr>\n",
       "    <tr>\n",
       "      <th>min</th>\n",
       "      <td>    1.000000</td>\n",
       "      <td>     0.050030</td>\n",
       "      <td>     2.805725</td>\n",
       "    </tr>\n",
       "    <tr>\n",
       "      <th>25%</th>\n",
       "      <td>    9.000000</td>\n",
       "      <td>     2.356628</td>\n",
       "      <td>    85.067460</td>\n",
       "    </tr>\n",
       "    <tr>\n",
       "      <th>50%</th>\n",
       "      <td>   12.000000</td>\n",
       "      <td>     5.527959</td>\n",
       "      <td>   144.769357</td>\n",
       "    </tr>\n",
       "    <tr>\n",
       "      <th>75%</th>\n",
       "      <td>   14.000000</td>\n",
       "      <td>     9.744384</td>\n",
       "      <td>   242.960283</td>\n",
       "    </tr>\n",
       "    <tr>\n",
       "      <th>max</th>\n",
       "      <td>   24.000000</td>\n",
       "      <td> 25343.629111</td>\n",
       "      <td> 87391.824520</td>\n",
       "    </tr>\n",
       "  </tbody>\n",
       "</table>\n",
       "</div>"
      ],
      "text/plain": [
       "       num_planets    solid_mass  mass_efficiency\n",
       "count  2735.000000   2735.000000      2735.000000\n",
       "mean     11.633638    112.688695       864.516450\n",
       "std       3.814312   1032.425930      5256.659310\n",
       "min       1.000000      0.050030         2.805725\n",
       "25%       9.000000      2.356628        85.067460\n",
       "50%      12.000000      5.527959       144.769357\n",
       "75%      14.000000      9.744384       242.960283\n",
       "max      24.000000  25343.629111     87391.824520"
      ]
     },
     "execution_count": 10,
     "metadata": {},
     "output_type": "execute_result"
    }
   ],
   "source": [
    "Y_low.describe()"
   ]
  },
  {
   "cell_type": "code",
   "execution_count": 11,
   "metadata": {
    "collapsed": true
   },
   "outputs": [],
   "source": [
    "# Save new data\n",
    "X_low.to_csv('data/X_low.csv')\n",
    "Y_low.to_csv('data/Y_low.csv')\n",
    "X_high.to_csv('data/X_high.csv')\n",
    "Y_high.to_csv('data/Y_high.csv')"
   ]
  },
  {
   "cell_type": "markdown",
   "metadata": {},
   "source": [
    "# Import of data"
   ]
  },
  {
   "cell_type": "code",
   "execution_count": 12,
   "metadata": {
    "collapsed": true
   },
   "outputs": [],
   "source": [
    "from sklearn import svm\n",
    "from sklearn import datasets\n",
    "from sklearn.datasets import make_classification\n",
    "from sklearn.model_selection import train_test_split\n",
    "from sklearn.metrics import confusion_matrix\n",
    "from sklearn.ensemble import RandomForestClassifier"
   ]
  },
  {
   "cell_type": "code",
   "execution_count": 13,
   "metadata": {
    "collapsed": false
   },
   "outputs": [],
   "source": [
    "X_low=np.genfromtxt('data/X_low.csv', delimiter=',', dtype='float', skip_header=1)[:,1:]\n",
    "Y_low=np.genfromtxt('data/Y_low.csv', delimiter=',', dtype='float', skip_header=1)[:,1:]\n",
    "X_high=np.genfromtxt('data/X_high.csv', delimiter=',', dtype='float', skip_header=1)[:,1:]\n",
    "Y_high=np.genfromtxt('data/Y_high.csv', delimiter=',', dtype='float', skip_header=1)[:,1:]\n",
    "X_low=np.delete(X_low, 6, axis=1)\n",
    "X_high=np.delete(X_high, 6, axis=1)"
   ]
  },
  {
   "cell_type": "code",
   "execution_count": 14,
   "metadata": {
    "collapsed": false
   },
   "outputs": [],
   "source": [
    "scax_low = sk.preprocessing.StandardScaler().fit(X_low)\n",
    "scax_high = sk.preprocessing.StandardScaler().fit(X_high)\n",
    "scay_low = sk.preprocessing.StandardScaler().fit(Y_low)\n",
    "scay_high = sk.preprocessing.StandardScaler().fit(Y_high)\n",
    "\n",
    "X_low=scax_low.transform(X_low)\n",
    "X_high=scax_high.transform(X_high)\n",
    "Y_low=scay_low.transform(Y_low)\n",
    "Y_high=scay_high.transform(Y_high)"
   ]
  },
  {
   "cell_type": "markdown",
   "metadata": {},
   "source": [
    "# Regularization-Low"
   ]
  },
  {
   "cell_type": "markdown",
   "metadata": {
    "collapsed": false
   },
   "source": [
    "# A continuacion la corresponencia entre numero de atributo/valor: \n",
    " 0 -> Iteration index. \n",
    " 1 -> Stellar mass.\n",
    " 2 -> Disk outer cutoff radius.\n",
    " 3 -> Toomre Q at min radius.\n",
    " 4 -> Maximum dust surface density.\n",
    " 5 -> Disk mass.\n",
    " 6 -> Metallicity wrt solar.\n",
    " 7 -> Gas dissipation timescale."
   ]
  },
  {
   "cell_type": "code",
   "execution_count": 15,
   "metadata": {
    "collapsed": true
   },
   "outputs": [],
   "source": [
    "from sklearn import linear_model\n",
    "from sklearn.metrics import r2_score"
   ]
  },
  {
   "cell_type": "code",
   "execution_count": 16,
   "metadata": {
    "collapsed": false
   },
   "outputs": [],
   "source": [
    "def relative_importance(coefs):\n",
    "    coe=np.abs(coefs)\n",
    "    tot=float(np.sum(coe))\n",
    "    for i in range(len(coe)):\n",
    "        donde=np.where(coe==np.max(coe))[0][0]\n",
    "        imp=coe[donde]/tot *100\n",
    "        print \"El atributo \" + str(donde) + \". Tiene importancia relativa de: \" + str(round(imp,2)) + \"%\"\n",
    "        coe[donde]=-1"
   ]
  },
  {
   "cell_type": "code",
   "execution_count": 17,
   "metadata": {
    "collapsed": false,
    "scrolled": true
   },
   "outputs": [
    {
     "data": {
      "image/png": "[encoded data removed]",
      "text/plain": [
       "<matplotlib.figure.Figure at 0x11a66a350>"
      ]
     },
     "metadata": {},
     "output_type": "display_data"
    },
    {
     "name": "stdout",
     "output_type": "stream",
     "text": [
      "Para la prediccion de numero de planetas para sistemas con baja perturbacion (lambda = 0.01): \n",
      "\n",
      "El atributo 0. Tiene importancia relativa de: 43.14%\n",
      "El atributo 5. Tiene importancia relativa de: 18.04%\n",
      "El atributo 1. Tiene importancia relativa de: 15.05%\n",
      "El atributo 7. Tiene importancia relativa de: 11.9%\n",
      "El atributo 4. Tiene importancia relativa de: 4.17%\n",
      "El atributo 2. Tiene importancia relativa de: 3.26%\n",
      "El atributo 3. Tiene importancia relativa de: 3.17%\n",
      "El atributo 6. Tiene importancia relativa de: 1.27%\n"
     ]
    }
   ],
   "source": [
    "N=100\n",
    "L=0.5\n",
    "matrix = np.zeros((8,N))\n",
    "alphas = np.linspace(0.01,L,N)\n",
    "\n",
    "for i in range(len(alphas)):\n",
    "    clf = linear_model.Lasso(alpha=alphas[i])\n",
    "    clf.fit(X_low, Y_low[:,0])\n",
    "    matrix[:,i]=clf.coef_\n",
    "\n",
    "plt.figure(figsize=(12,8))\n",
    "for j in range(8):\n",
    "    plt.plot(alphas, matrix[j,:], lw=2, alpha=0.8, label=r\"$\\beta $ \"+str(j))\n",
    "plt.legend(framealpha=0.5)\n",
    "plt.grid()\n",
    "plt.xlabel(r\"$\\lambda$\", fontsize=16)\n",
    "plt.ylabel(r\"Coeficiente\", fontsize=16)\n",
    "plt.title(r\"Dependencia de los coeficientes LASSO con $\\lambda$\", fontsize=18)\n",
    "plt.show()\n",
    "plt.close()\n",
    "\n",
    "print \"Para la prediccion de numero de planetas para sistemas con baja perturbacion (lambda = 0.01): \\n\"\n",
    "relative_importance(matrix[:,0])"
   ]
  },
  {
   "cell_type": "code",
   "execution_count": 18,
   "metadata": {
    "collapsed": false,
    "scrolled": true
   },
   "outputs": [
    {
     "data": {
      "image/png": "[encoded data removed]",
      "text/plain": [
       "<matplotlib.figure.Figure at 0x11b6deb90>"
      ]
     },
     "metadata": {},
     "output_type": "display_data"
    },
    {
     "name": "stdout",
     "output_type": "stream",
     "text": [
      "Para la prediccion de masa total para sistemas con baja perturbacion (lambda = 0.01): \n",
      "\n",
      "El atributo 5. Tiene importancia relativa de: 43.04%\n",
      "El atributo 4. Tiene importancia relativa de: 20.81%\n",
      "El atributo 6. Tiene importancia relativa de: 13.73%\n",
      "El atributo 3. Tiene importancia relativa de: 11.63%\n",
      "El atributo 0. Tiene importancia relativa de: 6.59%\n",
      "El atributo 7. Tiene importancia relativa de: 2.95%\n",
      "El atributo 1. Tiene importancia relativa de: 1.23%\n",
      "El atributo 2. Tiene importancia relativa de: 0.0%\n"
     ]
    }
   ],
   "source": [
    "for i in range(len(alphas)):\n",
    "    clf = linear_model.Lasso(alpha=alphas[i])\n",
    "    clf.fit(X_low, Y_low[:,1])\n",
    "    matrix[:,i]=clf.coef_\n",
    "\n",
    "plt.figure(figsize=(12,8))\n",
    "for j in range(8):\n",
    "    plt.plot(alphas, matrix[j,:], lw=1, label=r\"$\\beta$ \"+str(j))\n",
    "plt.legend(framealpha=0.5)\n",
    "plt.grid()\n",
    "plt.xlabel(r\"$\\lambda$\", fontsize=16)\n",
    "plt.ylabel(r\"Coeficiente\", fontsize=16)\n",
    "plt.title(r\"Dependencia de los coeficientes LASSO con $\\lambda$\", fontsize=18)\n",
    "plt.show()\n",
    "plt.close()\n",
    "\n",
    "print \"Para la prediccion de masa total para sistemas con baja perturbacion (lambda = 0.01): \\n\"\n",
    "relative_importance(matrix[:,0])"
   ]
  },
  {
   "cell_type": "code",
   "execution_count": 19,
   "metadata": {
    "collapsed": false,
    "scrolled": false
   },
   "outputs": [
    {
     "data": {
      "image/png": "[encoded data removed]",
      "text/plain": [
       "<matplotlib.figure.Figure at 0x119e938d0>"
      ]
     },
     "metadata": {},
     "output_type": "display_data"
    },
    {
     "name": "stdout",
     "output_type": "stream",
     "text": [
      "Para la prediccion de la eficiencia de masa para sistemas con baja perturbacion (lambda = 0.01): \n",
      "\n",
      "El atributo 4. Tiene importancia relativa de: 31.73%\n",
      "El atributo 5. Tiene importancia relativa de: 24.55%\n",
      "El atributo 6. Tiene importancia relativa de: 21.33%\n",
      "El atributo 0. Tiene importancia relativa de: 8.31%\n",
      "El atributo 1. Tiene importancia relativa de: 7.15%\n",
      "El atributo 3. Tiene importancia relativa de: 3.46%\n",
      "El atributo 7. Tiene importancia relativa de: 3.19%\n",
      "El atributo 2. Tiene importancia relativa de: 0.28%\n"
     ]
    }
   ],
   "source": [
    "for i in range(len(alphas)):\n",
    "    clf = linear_model.Lasso(alpha=alphas[i])\n",
    "    clf.fit(X_low, Y_low[:,2])\n",
    "    matrix[:,i]=clf.coef_\n",
    "\n",
    "plt.figure(figsize=(12,8))\n",
    "for j in range(8):\n",
    "    plt.plot(alphas, matrix[j,:], lw=1, label=r\"$\\beta $ \"+str(j))\n",
    "plt.legend(framealpha=0.5)\n",
    "plt.grid()\n",
    "plt.xlabel(r\"$\\lambda$\", fontsize=16)\n",
    "plt.ylabel(r\"Coeficiente\", fontsize=16)\n",
    "plt.title(r\"Dependencia de los coeficientes LASSO con $\\lambda$\", fontsize=18)\n",
    "plt.show()\n",
    "plt.close()\n",
    "\n",
    "print \"Para la prediccion de la eficiencia de masa para sistemas con baja perturbacion (lambda = 0.01): \\n\"\n",
    "relative_importance(matrix[:,0])"
   ]
  },
  {
   "cell_type": "markdown",
   "metadata": {},
   "source": [
    "# Regularization-High"
   ]
  },
  {
   "cell_type": "code",
   "execution_count": 20,
   "metadata": {
    "collapsed": false
   },
   "outputs": [
    {
     "data": {
      "image/png": "[encoded data removed]",
      "text/plain": [
       "<matplotlib.figure.Figure at 0x1108c2310>"
      ]
     },
     "metadata": {},
     "output_type": "display_data"
    },
    {
     "name": "stdout",
     "output_type": "stream",
     "text": [
      "Para la prediccion de numero de planetas para sistemas con alta perturbacion (lambda = 0.01): \n",
      "\n",
      "El atributo 0. Tiene importancia relativa de: 43.25%\n",
      "El atributo 7. Tiene importancia relativa de: 17.61%\n",
      "El atributo 5. Tiene importancia relativa de: 16.76%\n",
      "El atributo 1. Tiene importancia relativa de: 6.91%\n",
      "El atributo 3. Tiene importancia relativa de: 6.41%\n",
      "El atributo 4. Tiene importancia relativa de: 4.59%\n",
      "El atributo 2. Tiene importancia relativa de: 3.59%\n",
      "El atributo 6. Tiene importancia relativa de: 0.87%\n"
     ]
    }
   ],
   "source": [
    "for i in range(len(alphas)):\n",
    "    clf = linear_model.Lasso(alpha=alphas[i])\n",
    "    clf.fit(X_high, Y_high[:,0])\n",
    "    matrix[:,i]=clf.coef_\n",
    "\n",
    "plt.figure(figsize=(12,8))\n",
    "for j in range(8):\n",
    "    plt.plot(alphas, matrix[j,:], lw=2, alpha=0.8, label=r\"$\\beta $ \"+str(j))\n",
    "plt.legend(framealpha=0.5)\n",
    "plt.grid()\n",
    "plt.xlabel(r\"$\\lambda$\", fontsize=16)\n",
    "plt.ylabel(r\"Coeficiente\", fontsize=16)\n",
    "plt.title(r\"Dependencia de los coeficientes LASSO con $\\lambda$\", fontsize=18)\n",
    "plt.show()\n",
    "plt.close()\n",
    "\n",
    "print \"Para la prediccion de numero de planetas para sistemas con alta perturbacion (lambda = 0.01): \\n\"\n",
    "relative_importance(matrix[:,0])"
   ]
  },
  {
   "cell_type": "code",
   "execution_count": 21,
   "metadata": {
    "collapsed": false,
    "scrolled": true
   },
   "outputs": [
    {
     "data": {
      "image/png": "[encoded data removed]",
      "text/plain": [
       "<matplotlib.figure.Figure at 0x110876bd0>"
      ]
     },
     "metadata": {},
     "output_type": "display_data"
    },
    {
     "name": "stdout",
     "output_type": "stream",
     "text": [
      "Para la prediccion de masa total para sistemas con alta perturbacion (lambda = 0.01): \n",
      "\n",
      "El atributo 4. Tiene importancia relativa de: 52.78%\n",
      "El atributo 6. Tiene importancia relativa de: 11.38%\n",
      "El atributo 2. Tiene importancia relativa de: 10.04%\n",
      "El atributo 3. Tiene importancia relativa de: 7.71%\n",
      "El atributo 7. Tiene importancia relativa de: 7.46%\n",
      "El atributo 5. Tiene importancia relativa de: 5.4%\n",
      "El atributo 0. Tiene importancia relativa de: 4.61%\n",
      "El atributo 1. Tiene importancia relativa de: 0.61%\n"
     ]
    }
   ],
   "source": [
    "for i in range(len(alphas)):\n",
    "    clf = linear_model.Lasso(alpha=alphas[i])\n",
    "    clf.fit(X_high, Y_high[:,1])\n",
    "    matrix[:,i]=clf.coef_\n",
    "\n",
    "plt.figure(figsize=(12,8))\n",
    "for j in range(8):\n",
    "    plt.plot(alphas, matrix[j,:], lw=2, alpha=0.8, label=r\"$\\beta $ \"+str(j))\n",
    "plt.legend(framealpha=0.5)\n",
    "plt.grid()\n",
    "plt.xlabel(r\"$\\lambda$\", fontsize=16)\n",
    "plt.ylabel(r\"Coeficiente\", fontsize=16)\n",
    "plt.title(r\"Dependencia de los coeficientes LASSO con $\\lambda$\", fontsize=18)\n",
    "plt.show()\n",
    "plt.close()\n",
    "\n",
    "print \"Para la prediccion de masa total para sistemas con alta perturbacion (lambda = 0.01): \\n\"\n",
    "relative_importance(matrix[:,0])"
   ]
  },
  {
   "cell_type": "code",
   "execution_count": 22,
   "metadata": {
    "collapsed": false,
    "scrolled": false
   },
   "outputs": [
    {
     "data": {
      "image/png": "[encoded data removed]",
      "text/plain": [
       "<matplotlib.figure.Figure at 0x11bdf0f50>"
      ]
     },
     "metadata": {},
     "output_type": "display_data"
    },
    {
     "name": "stdout",
     "output_type": "stream",
     "text": [
      "Para la prediccion de la eficiencia de masa para sistemas con baja perturbacion (lambda = 0.01): \n",
      "\n",
      "El atributo 4. Tiene importancia relativa de: 46.18%\n",
      "El atributo 6. Tiene importancia relativa de: 20.74%\n",
      "El atributo 1. Tiene importancia relativa de: 12.78%\n",
      "El atributo 7. Tiene importancia relativa de: 8.43%\n",
      "El atributo 0. Tiene importancia relativa de: 7.06%\n",
      "El atributo 2. Tiene importancia relativa de: 4.8%\n",
      "El atributo 3. Tiene importancia relativa de: 0.0%\n",
      "El atributo 5. Tiene importancia relativa de: 0.0%\n"
     ]
    }
   ],
   "source": [
    "for i in range(len(alphas)):\n",
    "    clf = linear_model.Lasso(alpha=alphas[i])\n",
    "    clf.fit(X_high, Y_high[:,2])\n",
    "    matrix[:,i]=clf.coef_\n",
    "\n",
    "plt.figure(figsize=(12,8))\n",
    "for j in range(8):\n",
    "    plt.plot(alphas, matrix[j,:], lw=2, alpha=0.8, label=r\"$\\beta $ \"+str(j))\n",
    "plt.legend(framealpha=0.5)\n",
    "plt.grid()\n",
    "plt.xlabel(r\"$\\lambda$\", fontsize=16)\n",
    "plt.ylabel(r\"Coeficiente\", fontsize=16)\n",
    "plt.title(r\"Dependencia de los coeficientes LASSO con $\\lambda$\", fontsize=18)\n",
    "plt.show()\n",
    "plt.close()\n",
    "\n",
    "print \"Para la prediccion de la eficiencia de masa para sistemas con baja perturbacion (lambda = 0.01): \\n\"\n",
    "relative_importance(matrix[:,0])"
   ]
  },
  {
   "cell_type": "markdown",
   "metadata": {},
   "source": [
    "# Train, test, and validation test preparation"
   ]
  },
  {
   "cell_type": "code",
   "execution_count": 23,
   "metadata": {
    "collapsed": false
   },
   "outputs": [],
   "source": [
    "from sklearn.preprocessing import PolynomialFeatures\n",
    "\n",
    "X_low_train, X_low_val, Y_low_train, Y_low_val = train_test_split(X_low, Y_low, train_size=0.80, random_state=1)\n",
    "X_low_train, X_low_test, Y_low_train, Y_low_test = train_test_split(X_low_train, Y_low_train, train_size=0.80, random_state=2)\n",
    "\n",
    "X_high_train, X_high_val, Y_high_train, Y_high_val = train_test_split(X_high, Y_high, train_size=0.80, random_state=3)\n",
    "X_high_train, X_high_test, Y_high_train, Y_high_test = train_test_split(X_high_train, Y_high_train, train_size=0.80, random_state=4)"
   ]
  },
  {
   "cell_type": "markdown",
   "metadata": {},
   "source": [
    "# Polynomial fit"
   ]
  },
  {
   "cell_type": "code",
   "execution_count": 24,
   "metadata": {
    "collapsed": false
   },
   "outputs": [],
   "source": [
    "def ajuste_poli(X_train, X_test, Y_train, Y_test, alfa, grado):\n",
    "    poly = PolynomialFeatures(degree=grado)\n",
    "    X_high_train_trans=poly.fit_transform(X_train)\n",
    "    X_high_test_trans=poly.fit_transform(X_test)\n",
    "\n",
    "    clf=linear_model.Lasso(alpha=alfa)\n",
    "    clf.fit(X_high_train_trans, Y_train)\n",
    "    \n",
    "    return clf.score(X_high_test_trans, Y_test)"
   ]
  },
  {
   "cell_type": "code",
   "execution_count": 26,
   "metadata": {
    "collapsed": false,
    "scrolled": true
   },
   "outputs": [
    {
     "name": "stdout",
     "output_type": "stream",
     "text": [
      "Numero de planetas. Perturbacion baja:\n",
      "r^2=0.54\n",
      "Masa total. Perturbacion baja:\n",
      "r^2=0.11\n",
      "Eficiencia de masa. Perturbacion baja:\n",
      "r^2=0.16\n",
      "Numero de planetas. Perturbacion alta:\n",
      "r^2=0.64\n",
      "Masa total. Perturbacion alta:\n",
      "r^2=-0.06\n",
      "Eficiencia de masa. Perturbacion alta:\n",
      "r^2=0.04\n"
     ]
    }
   ],
   "source": [
    "#Planetas-Low\n",
    "print \"Numero de planetas. Perturbacion baja:\"\n",
    "print \"r^2=\"+str(round(ajuste_poli(X_low_train, X_low_test, Y_low_train[:,0], Y_low_test[:,0], 0.0001, 3),2))\n",
    "#Masa total-Low\n",
    "print \"Masa total. Perturbacion baja:\"\n",
    "print \"r^2=\"+ str(round(ajuste_poli(X_low_train, X_low_test, Y_low_train[:,1], Y_low_test[:,1], 0.0001, 2),2))\n",
    "#Eficiencia-Low\n",
    "print \"Eficiencia de masa. Perturbacion baja:\"\n",
    "print \"r^2=\"+ str(round(ajuste_poli(X_low_train, X_low_test, Y_low_train[:,2], Y_low_test[:,2], 0.0001, 2),2))\n",
    "#Planetas-High\n",
    "print \"Numero de planetas. Perturbacion alta:\"\n",
    "print \"r^2=\"+ str(round(ajuste_poli(X_high_train, X_high_test, Y_high_train[:,0], Y_high_test[:,0], 0.0001, 3),2))\n",
    "#Masa total-High\n",
    "print \"Masa total. Perturbacion alta:\"\n",
    "print \"r^2=\"+ str(round(ajuste_poli(X_high_train, X_high_test, Y_high_train[:,1], Y_high_test[:,1], 0.0001, 2),2))\n",
    "#Eficiencia-High\n",
    "print \"Eficiencia de masa. Perturbacion alta:\"\n",
    "print \"r^2=\"+ str(round(ajuste_poli(X_high_train, X_high_test, Y_high_train[:,2], Y_high_test[:,2], 0.0001, 2),2))"
   ]
  },
  {
   "cell_type": "markdown",
   "metadata": {},
   "source": [
    "# Machine Learning a través de bosques de clasificación"
   ]
  },
  {
   "cell_type": "code",
   "execution_count": 27,
   "metadata": {
    "collapsed": false,
    "scrolled": true
   },
   "outputs": [],
   "source": [
    "def fix(Y_fix):\n",
    "    Y_fix[:,0]= Y_fix[:,0]//3\n",
    "    \n",
    "    Y_fix[:,1]=Y_fix[:,1]//1\n",
    "    for i in range(len(Y_fix[:,1])):\n",
    "        if Y_fix[i,1]>=10 and Y_fix[i,1]<=100:\n",
    "            Y_fix[i,1]=Y_fix[i,1]//10*10\n",
    "        elif Y_fix[i,1]>100 and Y_fix[i,1]<=1000:\n",
    "            Y_fix[i,1]=Y_fix[i,1]//100*100\n",
    "        elif Y_fix[i,1]>1000:\n",
    "            Y_fix[i,1]=Y_fix[i,1]//1000*1000\n",
    "            \n",
    "    Y_fix[:,2]=Y_fix[:,2]//10\n",
    "    for i in range(len(Y_fix[:,2])):\n",
    "        if Y_fix[i,2]>=20 and Y_fix[i,2]<=100:\n",
    "            Y_fix[i,2]=Y_fix[i,2]//10*10\n",
    "        elif Y_fix[i,2]>100 and Y_fix[i,2]<=1000:\n",
    "            Y_fix[i,2]=Y_fix[i,2]//100*100\n",
    "        elif Y_fix[i,2]>1000:\n",
    "            Y_fix[i,2]=Y_fix[i,2]//1000*1000"
   ]
  },
  {
   "cell_type": "code",
   "execution_count": 28,
   "metadata": {
    "collapsed": false
   },
   "outputs": [],
   "source": [
    "def forest(n_trees, prof, feat, X_train, Y_train, X_test, Y_test, print_mat):\n",
    "    rf = RandomForestClassifier(n_estimators=n_trees, max_depth=prof, max_features=feat)\n",
    "    rf.fit(X_train, Y_train)\n",
    "\n",
    "    y_predict = rf.predict(X_test)\n",
    "    matrix=confusion_matrix(Y_test, y_predict)\n",
    "    if print_mat:\n",
    "        print matrix\n",
    "    return float(matrix.trace())/np.sum(matrix)"
   ]
  },
  {
   "cell_type": "code",
   "execution_count": 29,
   "metadata": {
    "collapsed": true
   },
   "outputs": [],
   "source": [
    "def explore_params(trees, profund, features, X_train, Y_train, X_test, Y_test):\n",
    "    best_tree=0.0\n",
    "    best_depth=0.0\n",
    "    best_atrib=0.0\n",
    "    hits=0.0\n",
    "    for i in range(len(trees)):\n",
    "        print i\n",
    "        for j in range(len(profund)):\n",
    "            for k in range(len(features)):\n",
    "                temp=forest(trees[i], profund[j], features[k], X_train, Y_train, X_test, Y_test, 0)\n",
    "                if temp>hits:\n",
    "                    forest(trees[i], profund[j], features[k], X_train, Y_train, X_test, Y_test, 1)\n",
    "                    print temp*100.0\n",
    "                    best_tree=trees[i]\n",
    "                    best_depth=profund[j]\n",
    "                    best_atrib=features[k]\n",
    "                    hits=temp\n",
    "    return best_tree, best_depth, best_atrib"
   ]
  },
  {
   "cell_type": "code",
   "execution_count": 30,
   "metadata": {
    "collapsed": true
   },
   "outputs": [],
   "source": [
    "def importancia(tree, depth, feature, X_train, Y_train):\n",
    "    rf = RandomForestClassifier(n_estimators=tree, max_depth=depth, max_features=feature)\n",
    "    rf.fit(X_train, Y_train)\n",
    "    atributo=[]\n",
    "    importance=[]\n",
    "    ii = np.argsort(rf.feature_importances_)\n",
    "    for i in range(1,len(X_train[0,:])+1):\n",
    "        atributo.append(ii[-1*i])\n",
    "        importance.append(rf.feature_importances_[ii[-1*i]])\n",
    "        print \"Atributo: \", ii[-1*i], \". Importancia relativa: \", rf.feature_importances_[ii[-1*i]]\n",
    "    return atributo, importance"
   ]
  },
  {
   "cell_type": "code",
   "execution_count": 33,
   "metadata": {
    "collapsed": true
   },
   "outputs": [],
   "source": [
    "arboles=np.arange(1, 182, 30)\n",
    "depths=np.arange(1, 100, 10)\n",
    "atrib=np.arange(1, 8, 1)"
   ]
  },
  {
   "cell_type": "code",
   "execution_count": 35,
   "metadata": {
    "collapsed": false
   },
   "outputs": [],
   "source": [
    "X_low=np.genfromtxt('data/X_low.csv', delimiter=',', dtype='float', skip_header=1)[:,1:]\n",
    "Y_low=np.genfromtxt('data/Y_low.csv', delimiter=',', dtype='float', skip_header=1)[:,1:]\n",
    "X_high=np.genfromtxt('data/X_high.csv', delimiter=',', dtype='float', skip_header=1)[:,1:]\n",
    "Y_high=np.genfromtxt('data/Y_high.csv', delimiter=',', dtype='float', skip_header=1)[:,1:]\n",
    "X_low=np.delete(X_low, 6, axis=1)\n",
    "X_high=np.delete(X_high, 6, axis=1)"
   ]
  },
  {
   "cell_type": "code",
   "execution_count": 36,
   "metadata": {
    "collapsed": false
   },
   "outputs": [],
   "source": [
    "scax_low = sk.preprocessing.StandardScaler().fit(X_low)\n",
    "scax_high = sk.preprocessing.StandardScaler().fit(X_high)\n",
    "\n",
    "X_low=scax_low.transform(X_low)\n",
    "X_high=scax_high.transform(X_high)"
   ]
  },
  {
   "cell_type": "code",
   "execution_count": 37,
   "metadata": {
    "collapsed": false,
    "scrolled": false
   },
   "outputs": [],
   "source": [
    "fix(Y_low)\n",
    "fix(Y_high)"
   ]
  },
  {
   "cell_type": "code",
   "execution_count": 38,
   "metadata": {
    "collapsed": false
   },
   "outputs": [],
   "source": [
    "from sklearn.preprocessing import PolynomialFeatures\n",
    "\n",
    "X_low_train, X_low_val, Y_low_train, Y_low_val = train_test_split(X_low, Y_low, train_size=0.80, random_state=1)\n",
    "X_low_train, X_low_test, Y_low_train, Y_low_test = train_test_split(X_low_train, Y_low_train, train_size=0.80, random_state=2)\n",
    "\n",
    "X_high_train, X_high_val, Y_high_train, Y_high_val = train_test_split(X_high, Y_high, train_size=0.80, random_state=3)\n",
    "X_high_train, X_high_test, Y_high_train, Y_high_test = train_test_split(X_high_train, Y_high_train, train_size=0.80, random_state=4)"
   ]
  },
  {
   "cell_type": "code",
   "execution_count": null,
   "metadata": {
    "collapsed": false,
    "scrolled": true
   },
   "outputs": [
    {
     "name": "stdout",
     "output_type": "stream",
     "text": [
      "Para perturbacion baja (Numero de planetas): \n",
      "\n",
      "0\n",
      "[[ 0  0  0  5  8  0  0  0  0]\n",
      " [ 0  0  0  5  6  0  0  0  0]\n",
      " [ 0  0  0 21 33  0  0  0  0]\n",
      " [ 0  0  0 68 80  0  0  0  0]\n",
      " [ 0  0  0 61 64  0  0  0  0]\n",
      " [ 0  0  0 19 39  0  0  0  0]\n",
      " [ 0  0  0  4 16  0  0  0  0]\n",
      " [ 0  0  0  3  5  0  0  0  0]\n",
      " [ 0  0  0  0  1  0  0  0  0]]\n",
      "36.5296803653\n",
      "[[  0  12   0   1   0   0   0   0   0]\n",
      " [  0   7   0   4   0   0   0   0   0]\n",
      " [  0   7   0  47   0   0   0   0   0]\n",
      " [  0   0   0 148   0   0   0   0   0]\n",
      " [  0   2   0 123   0   0   0   0   0]\n",
      " [  0   0   0  58   0   0   0   0   0]\n",
      " [  0   0   0  20   0   0   0   0   0]\n",
      " [  0   0   0   8   0   0   0   0   0]\n",
      " [  0   0   0   1   0   0   0   0   0]]\n",
      "36.7579908676\n",
      "[[ 4  8  0  1  0  0  0  0  0]\n",
      " [ 3  4  1  2  1  0  0  0  0]\n",
      " [ 2  4  7 19 16  5  1  0  0]\n",
      " [ 0  0 16 83 40  8  1  0  0]\n",
      " [ 0  2  8 44 42 23  5  1  0]\n",
      " [ 1  0  3  7 20 21  6  0  0]\n",
      " [ 0  0  1  2  2  7  8  0  0]\n",
      " [ 0  0  0  2  3  2  1  0  0]\n",
      " [ 0  0  0  0  0  0  1  0  0]]\n",
      "39.2694063927\n",
      "[[ 9  3  0  1  0  0  0  0  0]\n",
      " [ 2  4  2  1  2  0  0  0  0]\n",
      " [ 1  2 10 27  6  6  2  0  0]\n",
      " [ 0  1 10 84 41 10  2  0  0]\n",
      " [ 0  1  5 55 39 20  5  0  0]\n",
      " [ 0  0  4 13 17 19  5  0  0]\n",
      " [ 0  0  0  3  3  8  5  1  0]\n",
      " [ 0  0  0  0  4  1  3  0  0]\n",
      " [ 0  0  0  0  0  1  0  0  0]]\n",
      "39.9543378995\n",
      "1\n",
      "[[  5   7   0   1   0   0   0   0   0]\n",
      " [  1   3   3   2   1   1   0   0   0]\n",
      " [  1   2   7  31  11   2   0   0   0]\n",
      " [  0   0   3 100  39   6   0   0   0]\n",
      " [  0   0   3  61  48  13   0   0   0]\n",
      " [  0   0   0  14  26  15   3   0   0]\n",
      " [  0   0   0   0   6   8   6   0   0]\n",
      " [  0   0   0   1   1   5   1   0   0]\n",
      " [  0   0   0   0   0   0   1   0   0]]\n",
      "42.0091324201\n",
      "[[ 8  4  0  1  0  0  0  0  0]\n",
      " [ 2  4  1  2  1  1  0  0  0]\n",
      " [ 1  3  4 35  8  3  0  0  0]\n",
      " [ 0  0  3 99 41  5  0  0  0]\n",
      " [ 0  0  2 47 59 17  0  0  0]\n",
      " [ 0  0  0 10 27 19  2  0  0]\n",
      " [ 0  0  0  0  4 12  4  0  0]\n",
      " [ 0  0  0  0  2  5  1  0  0]\n",
      " [ 0  0  0  0  0  1  0  0  0]]\n",
      "42.2374429224\n",
      "[[ 9  3  0  1  0  0  0  0  0]\n",
      " [ 1  4  3  2  1  0  0  0  0]\n",
      " [ 0  3  7 34  7  2  1  0  0]\n",
      " [ 0  0  3 91 50  4  0  0  0]\n",
      " [ 0  0  1 59 49 15  1  0  0]\n",
      " [ 0  0  0  8 29 18  3  0  0]\n",
      " [ 0  0  0  0  4  9  7  0  0]\n",
      " [ 0  0  0  0  3  4  1  0  0]\n",
      " [ 0  0  0  0  0  0  1  0  0]]\n",
      "45.2054794521\n",
      "[[ 10   3   0   0   0   0   0   0   0]\n",
      " [  3   2   3   1   1   1   0   0   0]\n",
      " [  0   3   7  31  10   3   0   0   0]\n",
      " [  0   0   0 105  37   5   1   0   0]\n",
      " [  0   0   1  53  56  15   0   0   0]\n",
      " [  0   0   0   9  25  18   6   0   0]\n",
      " [  0   0   0   0   3  12   5   0   0]\n",
      " [  0   0   0   0   4   2   2   0   0]\n",
      " [  0   0   0   0   0   0   1   0   0]]\n",
      "45.4337899543\n",
      "[[10  3  0  0  0  0  0  0  0]\n",
      " [ 0  6  3  0  2  0  0  0  0]\n",
      " [ 0  4  8 29  7  6  0  0  0]\n",
      " [ 0  0  1 89 52  6  0  0  0]\n",
      " [ 0  0  2 54 56 13  0  0  0]\n",
      " [ 0  0  0  9 24 19  6  0  0]\n",
      " [ 0  0  0  1  2 11  6  0  0]\n",
      " [ 0  0  0  0  1  6  1  0  0]\n",
      " [ 0  0  0  0  0  0  1  0  0]]\n",
      "45.6621004566\n",
      "[[ 9  4  0  0  0  0  0  0  0]\n",
      " [ 1  5  3  0  2  0  0  0  0]\n",
      " [ 0  3  6 28 13  4  0  0  0]\n",
      " [ 0  0  8 95 39  5  1  0  0]\n",
      " [ 0  0  4 56 50 14  1  0  0]\n",
      " [ 0  0  0 10 23 20  5  0  0]\n",
      " [ 0  0  0  0  5  8  7  0  0]\n",
      " [ 0  0  0  0  2  5  1  0  0]\n",
      " [ 0  0  0  0  0  0  1  0  0]]\n",
      "46.5753424658\n",
      "2\n",
      "[[10  3  0  0  0  0  0  0  0]\n",
      " [ 2  3  4  0  2  0  0  0  0]\n",
      " [ 0  3  6 27 16  2  0  0  0]\n",
      " [ 0  0  4 93 46  5  0  0  0]\n",
      " [ 0  0  1 55 51 18  0  0  0]\n",
      " [ 0  0  0 10 26 17  5  0  0]\n",
      " [ 0  0  0  0  2 10  8  0  0]\n",
      " [ 0  0  0  0  2  5  1  0  0]\n",
      " [ 0  0  0  0  0  0  1  0  0]]\n",
      "47.0319634703\n",
      "3\n",
      "[[10  2  1  0  0  0  0  0  0]\n",
      " [ 1  5  3  1  1  0  0  0  0]\n",
      " [ 0  3  5 33 10  3  0  0  0]\n",
      " [ 0  0  3 97 43  5  0  0  0]\n",
      " [ 0  0  1 53 57 13  1  0  0]\n",
      " [ 0  0  0  9 27 17  5  0  0]\n",
      " [ 0  0  0  0  3 11  6  0  0]\n",
      " [ 0  0  0  0  1  6  1  0  0]\n",
      " [ 0  0  0  0  0  1  0  0  0]]\n",
      "47.2602739726\n",
      "4\n"
     ]
    }
   ],
   "source": [
    "print \"Para perturbacion baja (Numero de planetas): \\n\"\n",
    "b_tree_low_planets, b_depth_low_planets, b_atrib_low_planets = explore_params(arboles, depths, atrib, X_low_train, Y_low_train[:,0], X_low_test, Y_low_test[:,0])\n",
    "importancia(b_tree_low_planets, b_depth_low_planets, b_atrib_low_planets, X_low_train, Y_low_train[:,0])"
   ]
  },
  {
   "cell_type": "code",
   "execution_count": null,
   "metadata": {
    "collapsed": false
   },
   "outputs": [],
   "source": [
    "print \"Para perturbacion baja (Masa solida): \\n\"\n",
    "b_tree_low_mass, b_depth_low_mass, b_atrib_low_mass = explore_params(arboles, depths, atrib, X_low_train, Y_low_train[:,1], X_low_test, Y_low_test[:,1])\n",
    "importancia(b_tree_low_mass, b_depth_low_mass, b_atrib_low_mass, X_low_train, Y_low_train[:,1])"
   ]
  },
  {
   "cell_type": "code",
   "execution_count": null,
   "metadata": {
    "collapsed": false
   },
   "outputs": [],
   "source": [
    "print \"Para perturbacion baja (Eficiencia de masa): \\n\"\n",
    "b_tree_low_eff, b_depth_low_eff, b_atrib_low_eff = explore_params(arboles, depths, atrib, X_low_train, Y_low_train[:,2], X_low_test, Y_low_test[:,2])\n",
    "importancia(b_tree_low_eff, b_depth_low_eff, b_atrib_low_eff, X_low_train, Y_low_train[:,2])"
   ]
  },
  {
   "cell_type": "code",
   "execution_count": null,
   "metadata": {
    "collapsed": true
   },
   "outputs": [],
   "source": [
    "print \"Para perturbacion alta (Numero de planetas): \\n\"\n",
    "b_tree_high_planets, b_depth_high_planets, b_atrib_high_planets = explore_params(arboles, depths, atrib, X_high_train, Y_high_train[:,0], X_high_test, Y_high_test[:,0])\n",
    "importancia(b_tree_high_planets, b_depth_high_planets, b_atrib_high_planets, X_high_train, Y_high_train[:,0])"
   ]
  },
  {
   "cell_type": "code",
   "execution_count": null,
   "metadata": {
    "collapsed": true
   },
   "outputs": [],
   "source": [
    "print \"Para perturbacion alta (Masa solida): \\n\"\n",
    "b_tree_high_mass, b_depth_high_mass, b_atrib_high_mass = explore_params(arboles, depths, atrib, X_high_train, Y_high_train[:,1], X_high_test, Y_high_test[:,1])\n",
    "importancia(b_tree_high_mass, b_depth_high_mass, b_atrib_high_mass, X_high_train, Y_high_train[:,1])"
   ]
  },
  {
   "cell_type": "code",
   "execution_count": null,
   "metadata": {
    "collapsed": true
   },
   "outputs": [],
   "source": [
    "print \"Para perturbacion alta (Eficiencia de masa): \\n\"\n",
    "b_tree_high_eff, b_depth_high_eff, b_atrib_high_eff = explore_params(arboles, depths, atrib, X_high_train, Y_high_train[:,2], X_high_test, Y_high_test[:,2])\n",
    "importancia(b_tree_high_eff, b_depth_high_eff, b_atrib_high_eff, X_high_train, Y_high_train[:,2])"
   ]
  },
  {
   "cell_type": "code",
   "execution_count": null,
   "metadata": {
    "collapsed": true
   },
   "outputs": [],
   "source": []
  }
 ],
 "metadata": {
  "anaconda-cloud": {},
  "kernelspec": {
   "display_name": "Python 2",
   "language": "python",
   "name": "python2"
  },
  "language_info": {
   "codemirror_mode": {
    "name": "ipython",
    "version": 2
   },
   "file_extension": ".py",
   "mimetype": "text/x-python",
   "name": "python",
   "nbconvert_exporter": "python",
   "pygments_lexer": "ipython2",
   "version": "2.7.13"
  }
 },
 "nbformat": 4,
 "nbformat_minor": 0
}
