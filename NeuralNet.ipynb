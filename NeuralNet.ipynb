{
 "cells": [
  {
   "cell_type": "code",
   "execution_count": 1,
   "metadata": {
    "collapsed": false
   },
   "outputs": [
    {
     "name": "stdout",
     "output_type": "stream",
     "text": [
      "Populating the interactive namespace from numpy and matplotlib\n"
     ]
    }
   ],
   "source": [
    "import numpy as np\n",
    "import matplotlib.pyplot as plt\n",
    "import pandas as pd\n",
    "from sklearn.model_selection import train_test_split\n",
    "from sklearn.model_selection import cross_val_score\n",
    "from sklearn import preprocessing\n",
    "from sklearn import neural_network\n",
    "import seaborn as sns\n",
    "%pylab inline"
   ]
  },
  {
   "cell_type": "code",
   "execution_count": 2,
   "metadata": {
    "collapsed": true
   },
   "outputs": [],
   "source": [
    "# Loadgin files \n",
    "folder = 'data/'\n",
    "Y_high = pd.read_csv(folder+'Y_high.csv')\n",
    "Y_low = pd.read_csv(folder+'Y_low.csv')\n",
    "X_high = pd.read_csv(folder+'X_high.csv')\n",
    "X_low = pd.read_csv(folder+'X_low.csv')"
   ]
  },
  {
   "cell_type": "code",
   "execution_count": 3,
   "metadata": {
    "collapsed": false
   },
   "outputs": [
    {
     "data": {
      "text/html": [
       "<div>\n",
       "<table border=\"1\" class=\"dataframe\">\n",
       "  <thead>\n",
       "    <tr style=\"text-align: right;\">\n",
       "      <th></th>\n",
       "      <th>it</th>\n",
       "      <th>emestar</th>\n",
       "      <th>rc</th>\n",
       "      <th>qest</th>\n",
       "      <th>sigmag_0</th>\n",
       "      <th>emed</th>\n",
       "      <th>apert</th>\n",
       "      <th>emetal</th>\n",
       "      <th>taugas</th>\n",
       "    </tr>\n",
       "  </thead>\n",
       "  <tbody>\n",
       "    <tr>\n",
       "      <th>count</th>\n",
       "      <td>5505.000000</td>\n",
       "      <td>5.505000e+03</td>\n",
       "      <td>5505.000000</td>\n",
       "      <td>5505.000000</td>\n",
       "      <td>5505.000000</td>\n",
       "      <td>5505.000000</td>\n",
       "      <td>5505.000000</td>\n",
       "      <td>5505.000000</td>\n",
       "      <td>5.505000e+03</td>\n",
       "    </tr>\n",
       "    <tr>\n",
       "      <th>mean</th>\n",
       "      <td>194293.401453</td>\n",
       "      <td>5.681652e+32</td>\n",
       "      <td>45.451400</td>\n",
       "      <td>5.880861</td>\n",
       "      <td>34.176706</td>\n",
       "      <td>0.045563</td>\n",
       "      <td>0.200636</td>\n",
       "      <td>-0.008525</td>\n",
       "      <td>4.027676e+06</td>\n",
       "    </tr>\n",
       "    <tr>\n",
       "      <th>std</th>\n",
       "      <td>18183.031824</td>\n",
       "      <td>2.838980e+32</td>\n",
       "      <td>8.219733</td>\n",
       "      <td>4.543921</td>\n",
       "      <td>36.311114</td>\n",
       "      <td>0.042595</td>\n",
       "      <td>0.100007</td>\n",
       "      <td>0.215189</td>\n",
       "      <td>2.565235e+06</td>\n",
       "    </tr>\n",
       "    <tr>\n",
       "      <th>min</th>\n",
       "      <td>2219.000000</td>\n",
       "      <td>2.005149e+32</td>\n",
       "      <td>25.340290</td>\n",
       "      <td>1.007152</td>\n",
       "      <td>1.515903</td>\n",
       "      <td>0.003100</td>\n",
       "      <td>0.100000</td>\n",
       "      <td>-0.688720</td>\n",
       "      <td>1.001011e+06</td>\n",
       "    </tr>\n",
       "    <tr>\n",
       "      <th>25%</th>\n",
       "      <td>197697.000000</td>\n",
       "      <td>3.242120e+32</td>\n",
       "      <td>39.659233</td>\n",
       "      <td>2.792358</td>\n",
       "      <td>12.059580</td>\n",
       "      <td>0.018000</td>\n",
       "      <td>0.100000</td>\n",
       "      <td>-0.154325</td>\n",
       "      <td>1.802666e+06</td>\n",
       "    </tr>\n",
       "    <tr>\n",
       "      <th>50%</th>\n",
       "      <td>199637.000000</td>\n",
       "      <td>5.019627e+32</td>\n",
       "      <td>44.709671</td>\n",
       "      <td>4.589251</td>\n",
       "      <td>22.208331</td>\n",
       "      <td>0.031000</td>\n",
       "      <td>0.300000</td>\n",
       "      <td>-0.005050</td>\n",
       "      <td>3.325364e+06</td>\n",
       "    </tr>\n",
       "    <tr>\n",
       "      <th>75%</th>\n",
       "      <td>199915.000000</td>\n",
       "      <td>7.742199e+32</td>\n",
       "      <td>50.470615</td>\n",
       "      <td>7.520444</td>\n",
       "      <td>42.551480</td>\n",
       "      <td>0.057000</td>\n",
       "      <td>0.300000</td>\n",
       "      <td>0.137732</td>\n",
       "      <td>5.824424e+06</td>\n",
       "    </tr>\n",
       "    <tr>\n",
       "      <th>max</th>\n",
       "      <td>199999.000000</td>\n",
       "      <td>1.198218e+33</td>\n",
       "      <td>91.153824</td>\n",
       "      <td>48.223476</td>\n",
       "      <td>372.454042</td>\n",
       "      <td>0.320000</td>\n",
       "      <td>0.300000</td>\n",
       "      <td>0.774710</td>\n",
       "      <td>9.985367e+06</td>\n",
       "    </tr>\n",
       "  </tbody>\n",
       "</table>\n",
       "</div>"
      ],
      "text/plain": [
       "                  it       emestar           rc         qest     sigmag_0  \\\n",
       "count    5505.000000  5.505000e+03  5505.000000  5505.000000  5505.000000   \n",
       "mean   194293.401453  5.681652e+32    45.451400     5.880861    34.176706   \n",
       "std     18183.031824  2.838980e+32     8.219733     4.543921    36.311114   \n",
       "min      2219.000000  2.005149e+32    25.340290     1.007152     1.515903   \n",
       "25%    197697.000000  3.242120e+32    39.659233     2.792358    12.059580   \n",
       "50%    199637.000000  5.019627e+32    44.709671     4.589251    22.208331   \n",
       "75%    199915.000000  7.742199e+32    50.470615     7.520444    42.551480   \n",
       "max    199999.000000  1.198218e+33    91.153824    48.223476   372.454042   \n",
       "\n",
       "              emed        apert       emetal        taugas  \n",
       "count  5505.000000  5505.000000  5505.000000  5.505000e+03  \n",
       "mean      0.045563     0.200636    -0.008525  4.027676e+06  \n",
       "std       0.042595     0.100007     0.215189  2.565235e+06  \n",
       "min       0.003100     0.100000    -0.688720  1.001011e+06  \n",
       "25%       0.018000     0.100000    -0.154325  1.802666e+06  \n",
       "50%       0.031000     0.300000    -0.005050  3.325364e+06  \n",
       "75%       0.057000     0.300000     0.137732  5.824424e+06  \n",
       "max       0.320000     0.300000     0.774710  9.985367e+06  "
      ]
     },
     "execution_count": 3,
     "metadata": {},
     "output_type": "execute_result"
    }
   ],
   "source": [
    "# Merge data \n",
    "X = X_low.append(X_high)\n",
    "Y = Y_low.append(Y_high)\n",
    "X.describe()"
   ]
  },
  {
   "cell_type": "code",
   "execution_count": 4,
   "metadata": {
    "collapsed": false
   },
   "outputs": [],
   "source": [
    "# Scale data with the same cross validation groups\n",
    "scaler = preprocessing.StandardScaler().fit(X)\n",
    "X = scaler.transform(X)\n",
    "Y = (Y - np.mean(Y_high))/np.std(Y_high)"
   ]
  },
  {
   "cell_type": "code",
   "execution_count": 5,
   "metadata": {
    "collapsed": false
   },
   "outputs": [],
   "source": [
    "X_validation, X_t, Y_validation, Y_t = train_test_split(X, Y, test_size=0.80, random_state=42)\n",
    "X_test, X_train, Y_test, Y_train = train_test_split(X_t, Y_t, test_size=0.80, random_state=42)\n",
    "\n",
    "X_train, X_test, Y_train, Y_test = train_test_split(X, Y, random_state=1)\n",
    "scaler = preprocessing.StandardScaler().fit(X_train)\n",
    "X_train = scaler.transform(X_train)\n",
    "X_test = scaler.transform(X_test)\n",
    "Y_train = (Y_train - np.mean(Y_train))/np.std(Y_train)\n",
    "Y_test = (Y_test - np.mean(Y_test))/np.std(Y_test)"
   ]
  },
  {
   "cell_type": "code",
   "execution_count": 6,
   "metadata": {
    "collapsed": false
   },
   "outputs": [],
   "source": [
    "# Benchmark \n",
    "def NN_benchmark(x,y,xt,yt): \n",
    "    mlp = neural_network.MLPRegressor()\n",
    "    mlp.fit(x,y)\n",
    "    train = mlp.score(x, y)\n",
    "    test = mlp.score(xt, yt)\n",
    "    print('R2 train: ' + str(train) + ' R2 test: ' + str(test)) "
   ]
  },
  {
   "cell_type": "code",
   "execution_count": 7,
   "metadata": {
    "collapsed": false
   },
   "outputs": [
    {
     "name": "stdout",
     "output_type": "stream",
     "text": [
      "Number planets model: \n",
      "R2 train: 0.711469371165 R2 test: 0.677408223284\n",
      "Mass efficiency: \n",
      "R2 train: 0.357518774216 R2 test: 0.230585321464\n",
      "Solid mass: \n",
      "R2 train: 0.361363156189 R2 test: 0.221830876027\n"
     ]
    }
   ],
   "source": [
    "print('Number planets model: ')\n",
    "NN_benchmark(X_train,Y_train['num_planets'],X_test,Y_test['num_planets'])\n",
    "print('Mass efficiency: ')\n",
    "NN_benchmark(X_train,Y_train['mass_efficiency'],X_test,Y_test['mass_efficiency'])\n",
    "print('Solid mass: ')\n",
    "NN_benchmark(X_train,Y_train['solid_mass'],X_test,Y_test['solid_mass'])"
   ]
  },
  {
   "cell_type": "markdown",
   "metadata": {},
   "source": [
    "### Optimal Neural Network architecture \n",
    "We are going to search the best architecture without falling in overfitting"
   ]
  },
  {
   "cell_type": "code",
   "execution_count": 8,
   "metadata": {
    "collapsed": false
   },
   "outputs": [],
   "source": [
    "def NN_achitecture(x,y,xt,yt,N_neurons=100, N_layers=5,s_nuerons=9,s_layers=1):\n",
    "    Neurons = range(1,N_neurons,s_nuerons)\n",
    "    Layers = range(1,N_layers,s_layers)\n",
    "\n",
    "    R2_train = np.zeros((int(N_layers/s_layers),int(N_neurons/s_nuerons)))\n",
    "    R2_test = np.zeros((int(N_layers/s_layers),int(N_neurons/s_nuerons)))\n",
    "    #int((i)/10)+1,int((i)/10)+1,int((i)/10)+1,int((i)/10)+1\n",
    "    cont_neu = 0\n",
    "    cont_lay = 0\n",
    "    for lay in Layers:\n",
    "        for neu in Neurons:\n",
    "            mlp = neural_network.MLPRegressor(hidden_layer_sizes = neu*np.ones(lay),max_iter = 500)\n",
    "            mlp.fit(x,y)\n",
    "            R2_train[cont_lay][cont_neu] = mlp.score(x,y)\n",
    "            R2_test[cont_lay][cont_neu] = mlp.score(xt,yt)\n",
    "            print('Layers: '+str(lay)+' Nuerons: ' + str(neu)+' R2 train: ' + str(R2_train[cont_lay][cont_neu]) + ' R2 test: ' + str(R2_test[cont_lay][cont_neu])) \n",
    "            cont_neu = cont_neu + 1\n",
    "        cont_neu = 0\n",
    "        cont_lay = cont_lay + 1\n",
    "    plt.clf\n",
    "    plt.pcolormesh(Neurons,Layers,R2_train)\n",
    "    plt.ylabel('layers')\n",
    "    plt.xlabel('neurons')\n",
    "    plt.title('Train')\n",
    "    plt.colorbar()\n",
    "    plt.show()\n",
    "    plt.clf()\n",
    "    plt.pcolormesh(Neurons,Layers,R2_test)\n",
    "    plt.ylabel('layers')\n",
    "    plt.xlabel('neurons')\n",
    "    plt.title('Test')\n",
    "    plt.show()\n",
    "    index = np.array(np.where(R2_test == R2_test.max()))\n",
    "    print('R2 for test : '+str(R2_test.max()))\n",
    "    print('Layers : '+ str(Layers[index[1][0]]))\n",
    "    print('Nuerons : '+ str(Neurons[index[1][0]]))"
   ]
  },
  {
   "cell_type": "code",
   "execution_count": 9,
   "metadata": {
    "collapsed": false
   },
   "outputs": [
    {
     "name": "stderr",
     "output_type": "stream",
     "text": [
      "//anaconda/lib/python3.5/site-packages/sklearn/neural_network/multilayer_perceptron.py:312: VisibleDeprecationWarning: using a non-integer number instead of an integer will result in an error in the future\n",
      "  (fan_in, fan_out))\n",
      "//anaconda/lib/python3.5/site-packages/sklearn/neural_network/multilayer_perceptron.py:314: VisibleDeprecationWarning: using a non-integer number instead of an integer will result in an error in the future\n",
      "  fan_out)\n",
      "//anaconda/lib/python3.5/site-packages/sklearn/neural_network/multilayer_perceptron.py:364: VisibleDeprecationWarning: using a non-integer number instead of an integer will result in an error in the future\n",
      "  for n_fan_out in layer_units[1:])\n",
      "//anaconda/lib/python3.5/site-packages/sklearn/neural_network/multilayer_perceptron.py:368: VisibleDeprecationWarning: using a non-integer number instead of an integer will result in an error in the future\n",
      "  n_fan_out_ in zip(layer_units[:-1],\n",
      "//anaconda/lib/python3.5/site-packages/sklearn/neural_network/multilayer_perceptron.py:371: VisibleDeprecationWarning: using a non-integer number instead of an integer will result in an error in the future\n",
      "  intercept_grads = [np.empty(n_fan_out_) for n_fan_out_ in\n",
      "//anaconda/lib/python3.5/site-packages/sklearn/neural_network/multilayer_perceptron.py:674: VisibleDeprecationWarning: using a non-integer number instead of an integer will result in an error in the future\n",
      "  layer_units[i + 1])))\n"
     ]
    },
    {
     "name": "stdout",
     "output_type": "stream",
     "text": [
      "Layers: 1 Nuerons: 1 R2 train: 0.296720008379 R2 test: 0.272432988935\n",
      "Layers: 1 Nuerons: 10 R2 train: 0.6728888846 R2 test: 0.66295514\n",
      "Layers: 1 Nuerons: 19 R2 train: 0.669729583199 R2 test: 0.654834718774\n",
      "Layers: 1 Nuerons: 28 R2 train: 0.679966862226 R2 test: 0.667094288283\n",
      "Layers: 1 Nuerons: 37 R2 train: 0.697152658407 R2 test: 0.670162441003\n",
      "Layers: 1 Nuerons: 46 R2 train: 0.699872850237 R2 test: 0.674820785986\n",
      "Layers: 1 Nuerons: 55 R2 train: 0.698812236393 R2 test: 0.672741500839\n",
      "Layers: 1 Nuerons: 64 R2 train: 0.706849387361 R2 test: 0.680087386107\n",
      "Layers: 1 Nuerons: 73 R2 train: 0.710329958692 R2 test: 0.676927764368\n",
      "Layers: 1 Nuerons: 82 R2 train: 0.700422561846 R2 test: 0.681099566151\n",
      "Layers: 1 Nuerons: 91 R2 train: 0.705208178388 R2 test: 0.674327075565\n",
      "Layers: 3 Nuerons: 1 R2 train: -0.00106849604675 R2 test: -0.00106849604675\n",
      "Layers: 3 Nuerons: 10 R2 train: 0.690196652611 R2 test: 0.672293189525\n",
      "Layers: 3 Nuerons: 19 R2 train: 0.705680261954 R2 test: 0.67630418856\n",
      "Layers: 3 Nuerons: 28 R2 train: 0.724248846848 R2 test: 0.679745194182\n",
      "Layers: 3 Nuerons: 37 R2 train: 0.743266873015 R2 test: 0.676525407232\n",
      "Layers: 3 Nuerons: 46 R2 train: 0.737893760519 R2 test: 0.679154666416\n",
      "Layers: 3 Nuerons: 55 R2 train: 0.74447818945 R2 test: 0.680106459451\n",
      "Layers: 3 Nuerons: 64 R2 train: 0.742109899374 R2 test: 0.682772964939\n",
      "Layers: 3 Nuerons: 73 R2 train: 0.732308583628 R2 test: 0.675688547348\n",
      "Layers: 3 Nuerons: 82 R2 train: 0.73883603452 R2 test: 0.668816738121\n",
      "Layers: 3 Nuerons: 91 R2 train: 0.74405912236 R2 test: 0.680850100908\n",
      "Layers: 5 Nuerons: 1 R2 train: -0.000952750459405 R2 test: -0.000952750459405\n",
      "Layers: 5 Nuerons: 10 R2 train: 0.704248525499 R2 test: 0.680927790514\n",
      "Layers: 5 Nuerons: 19 R2 train: 0.716439691228 R2 test: 0.665670272141\n",
      "Layers: 5 Nuerons: 28 R2 train: 0.751163261622 R2 test: 0.689284055484\n",
      "Layers: 5 Nuerons: 37 R2 train: 0.729843558079 R2 test: 0.670737767301\n",
      "Layers: 5 Nuerons: 46 R2 train: 0.752708602388 R2 test: 0.661180103222\n",
      "Layers: 5 Nuerons: 55 R2 train: 0.743971511038 R2 test: 0.670764794568\n",
      "Layers: 5 Nuerons: 64 R2 train: 0.764221237865 R2 test: 0.671604831019\n",
      "Layers: 5 Nuerons: 73 R2 train: 0.750201988871 R2 test: 0.67534765277\n",
      "Layers: 5 Nuerons: 82 R2 train: 0.738209230615 R2 test: 0.68369329594\n",
      "Layers: 5 Nuerons: 91 R2 train: 0.768858457712 R2 test: 0.679514246745\n",
      "Layers: 7 Nuerons: 1 R2 train: -0.000263551057875 R2 test: -0.000263551057875\n",
      "Layers: 7 Nuerons: 10 R2 train: 0.706878484807 R2 test: 0.678971340771\n",
      "Layers: 7 Nuerons: 19 R2 train: 0.710623530077 R2 test: 0.671324383489\n",
      "Layers: 7 Nuerons: 28 R2 train: 0.730262323591 R2 test: 0.670938608847\n",
      "Layers: 7 Nuerons: 37 R2 train: 0.744420169723 R2 test: 0.680038144886\n",
      "Layers: 7 Nuerons: 46 R2 train: 0.737197706048 R2 test: 0.674974205836\n",
      "Layers: 7 Nuerons: 55 R2 train: 0.774335447636 R2 test: 0.663147104584\n",
      "Layers: 7 Nuerons: 64 R2 train: 0.751349134163 R2 test: 0.681185945724\n",
      "Layers: 7 Nuerons: 73 R2 train: 0.753168025119 R2 test: 0.679107447117\n",
      "Layers: 7 Nuerons: 82 R2 train: 0.795506087652 R2 test: 0.653032314621\n",
      "Layers: 7 Nuerons: 91 R2 train: 0.76168658824 R2 test: 0.667270270686\n",
      "Layers: 9 Nuerons: 1 R2 train: -9.90261206368e-10 R2 test: -9.90261206368e-10\n",
      "Layers: 9 Nuerons: 10 R2 train: 0.69177485117 R2 test: 0.669126276745\n",
      "Layers: 9 Nuerons: 19 R2 train: 0.71928591888 R2 test: 0.666118544594\n",
      "Layers: 9 Nuerons: 28 R2 train: 0.706048882079 R2 test: 0.663579499662\n",
      "Layers: 9 Nuerons: 37 R2 train: 0.738354067874 R2 test: 0.660520477225\n",
      "Layers: 9 Nuerons: 46 R2 train: 0.793381488035 R2 test: 0.674065440961\n",
      "Layers: 9 Nuerons: 55 R2 train: 0.73570930157 R2 test: 0.677471082508\n",
      "Layers: 9 Nuerons: 64 R2 train: 0.747019848243 R2 test: 0.67663808953\n",
      "Layers: 9 Nuerons: 73 R2 train: 0.775142428913 R2 test: 0.667959320887\n",
      "Layers: 9 Nuerons: 82 R2 train: 0.759219300997 R2 test: 0.622018283585\n",
      "Layers: 9 Nuerons: 91 R2 train: 0.825430713755 R2 test: 0.61411038084\n",
      "Layers: 11 Nuerons: 1 R2 train: -0.000374519267824 R2 test: -0.000374519267824\n",
      "Layers: 11 Nuerons: 10 R2 train: 0.69851879025 R2 test: 0.664198160601\n",
      "Layers: 11 Nuerons: 19 R2 train: 0.690170710566 R2 test: 0.622748917008\n",
      "Layers: 11 Nuerons: 28 R2 train: 0.701232040342 R2 test: 0.643761369093\n",
      "Layers: 11 Nuerons: 37 R2 train: 0.72083795044 R2 test: 0.654148258128\n",
      "Layers: 11 Nuerons: 46 R2 train: 0.669729958201 R2 test: 0.603533143202\n",
      "Layers: 11 Nuerons: 55 R2 train: 0.761878206136 R2 test: 0.645629570941\n",
      "Layers: 11 Nuerons: 64 R2 train: 0.743555723234 R2 test: 0.674724568522\n",
      "Layers: 11 Nuerons: 73 R2 train: 0.75835681099 R2 test: 0.675399797948\n",
      "Layers: 11 Nuerons: 82 R2 train: 0.733918827077 R2 test: 0.680714449661\n",
      "Layers: 11 Nuerons: 91 R2 train: 0.744799204854 R2 test: 0.668352915054\n",
      "Layers: 13 Nuerons: 1 R2 train: -1.08996882944e-05 R2 test: -1.08996882948e-05\n",
      "Layers: 13 Nuerons: 10 R2 train: 0.697532278155 R2 test: 0.669985831098\n",
      "Layers: 13 Nuerons: 19 R2 train: 0.714338890952 R2 test: 0.665220868812\n",
      "Layers: 13 Nuerons: 28 R2 train: 0.734804768283 R2 test: 0.676779514527\n",
      "Layers: 13 Nuerons: 37 R2 train: 0.734695588487 R2 test: 0.676118582419\n",
      "Layers: 13 Nuerons: 46 R2 train: 0.740985608238 R2 test: 0.674466116819\n",
      "Layers: 13 Nuerons: 55 R2 train: 0.782847643075 R2 test: 0.658580366901\n",
      "Layers: 13 Nuerons: 64 R2 train: 0.723949483729 R2 test: 0.675446753463\n",
      "Layers: 13 Nuerons: 73 R2 train: 0.837882996206 R2 test: 0.614354616184\n",
      "Layers: 13 Nuerons: 82 R2 train: 0.748232450296 R2 test: 0.671147101922\n",
      "Layers: 13 Nuerons: 91 R2 train: 0.75639311457 R2 test: 0.64450482759\n",
      "Layers: 15 Nuerons: 1 R2 train: -0.000514930421762 R2 test: -0.000514930421762\n",
      "Layers: 15 Nuerons: 10 R2 train: 0.694272526172 R2 test: 0.663455668416\n",
      "Layers: 15 Nuerons: 19 R2 train: 0.725007791149 R2 test: 0.670375272831\n",
      "Layers: 15 Nuerons: 28 R2 train: 0.731924957194 R2 test: 0.668945746822\n",
      "Layers: 15 Nuerons: 37 R2 train: 0.732399788592 R2 test: 0.671312190769\n",
      "Layers: 15 Nuerons: 46 R2 train: 0.751208688809 R2 test: 0.672952640319\n",
      "Layers: 15 Nuerons: 55 R2 train: 0.722985819765 R2 test: 0.672731302854\n",
      "Layers: 15 Nuerons: 64 R2 train: 0.718153961086 R2 test: 0.64506652568\n",
      "Layers: 15 Nuerons: 73 R2 train: 0.729651024079 R2 test: 0.65666708693\n",
      "Layers: 15 Nuerons: 82 R2 train: 0.778938204164 R2 test: 0.659111592173\n",
      "Layers: 15 Nuerons: 91 R2 train: 0.741961138909 R2 test: 0.677883761374\n",
      "Layers: 17 Nuerons: 1 R2 train: -0.00118378532762 R2 test: -0.00118378532762\n",
      "Layers: 17 Nuerons: 10 R2 train: 0.672947487459 R2 test: 0.649876709113\n",
      "Layers: 17 Nuerons: 19 R2 train: 0.70517278625 R2 test: 0.664233404365\n",
      "Layers: 17 Nuerons: 28 R2 train: 0.703722937073 R2 test: 0.677498706296\n",
      "Layers: 17 Nuerons: 37 R2 train: 0.736942434031 R2 test: 0.676702513834\n",
      "Layers: 17 Nuerons: 46 R2 train: 0.743155021268 R2 test: 0.670790029139\n",
      "Layers: 17 Nuerons: 55 R2 train: 0.742411423276 R2 test: 0.678518572444\n",
      "Layers: 17 Nuerons: 64 R2 train: 0.74178764728 R2 test: 0.6619105965\n",
      "Layers: 17 Nuerons: 73 R2 train: 0.753532154568 R2 test: 0.653531345098\n",
      "Layers: 17 Nuerons: 82 R2 train: 0.761366144166 R2 test: 0.668326148868\n",
      "Layers: 17 Nuerons: 91 R2 train: 0.755892160787 R2 test: 0.671630256188\n",
      "Layers: 19 Nuerons: 1 R2 train: -0.000158529962833 R2 test: -0.000158529962833\n",
      "Layers: 19 Nuerons: 10 R2 train: 0.67891412989 R2 test: 0.644880642643\n",
      "Layers: 19 Nuerons: 19 R2 train: 0.689396797667 R2 test: 0.632073095759\n",
      "Layers: 19 Nuerons: 28 R2 train: 0.708194298403 R2 test: 0.652317215673\n",
      "Layers: 19 Nuerons: 37 R2 train: 0.709862243292 R2 test: 0.67379155735\n",
      "Layers: 19 Nuerons: 46 R2 train: 0.739815222016 R2 test: 0.667439766583\n",
      "Layers: 19 Nuerons: 55 R2 train: 0.702981923244 R2 test: 0.623720853037\n",
      "Layers: 19 Nuerons: 64 R2 train: 0.765542396916 R2 test: 0.672656269067\n",
      "Layers: 19 Nuerons: 73 R2 train: 0.716205267621 R2 test: 0.66560766016\n",
      "Layers: 19 Nuerons: 82 R2 train: 0.720844566073 R2 test: 0.674821385696\n",
      "Layers: 19 Nuerons: 91 R2 train: 0.722607379568 R2 test: 0.642767319776\n",
      "Layers: 21 Nuerons: 1 R2 train: -0.000234885415745 R2 test: -0.000234885415745\n",
      "Layers: 21 Nuerons: 10 R2 train: 0.67604082966 R2 test: 0.647043878779\n",
      "Layers: 21 Nuerons: 19 R2 train: 0.689470308448 R2 test: 0.664263230663\n",
      "Layers: 21 Nuerons: 28 R2 train: 0.734563943671 R2 test: 0.670355770918\n",
      "Layers: 21 Nuerons: 37 R2 train: 0.735873469314 R2 test: 0.684609596465\n",
      "Layers: 21 Nuerons: 46 R2 train: 0.743797246891 R2 test: 0.652411973025\n",
      "Layers: 21 Nuerons: 55 R2 train: 0.758917926867 R2 test: 0.659751340802\n",
      "Layers: 21 Nuerons: 64 R2 train: 0.7287152412 R2 test: 0.661352849206\n",
      "Layers: 21 Nuerons: 73 R2 train: 0.752931098186 R2 test: 0.674264321337\n",
      "Layers: 21 Nuerons: 82 R2 train: 0.734195269159 R2 test: 0.661540640025\n",
      "Layers: 21 Nuerons: 91 R2 train: 0.71979649814 R2 test: 0.644705996741\n",
      "Layers: 23 Nuerons: 1 R2 train: -0.000823614179795 R2 test: -0.000823614179796\n",
      "Layers: 23 Nuerons: 10 R2 train: 0.688587153449 R2 test: 0.661188747056\n",
      "Layers: 23 Nuerons: 19 R2 train: 0.716649591271 R2 test: 0.668768547939\n",
      "Layers: 23 Nuerons: 28 R2 train: 0.720378081078 R2 test: 0.672960727591\n",
      "Layers: 23 Nuerons: 37 R2 train: 0.739714717998 R2 test: 0.65894827444\n",
      "Layers: 23 Nuerons: 46 R2 train: 0.72482422932 R2 test: 0.663162226939\n",
      "Layers: 23 Nuerons: 55 R2 train: 0.790573477648 R2 test: 0.636503661293\n",
      "Layers: 23 Nuerons: 64 R2 train: 0.72399480738 R2 test: 0.660428428653\n",
      "Layers: 23 Nuerons: 73 R2 train: 0.791507005573 R2 test: 0.632976461654\n",
      "Layers: 23 Nuerons: 82 R2 train: 0.743748471965 R2 test: 0.680024782984\n",
      "Layers: 23 Nuerons: 91 R2 train: 0.68045590648 R2 test: 0.615012952006\n",
      "Layers: 25 Nuerons: 1 R2 train: -0.00146820541211 R2 test: -0.00146820541211\n",
      "Layers: 25 Nuerons: 10 R2 train: -9.78041871935e-08 R2 test: -9.80538898965e-08\n",
      "Layers: 25 Nuerons: 19 R2 train: 0.695365742767 R2 test: 0.664496893788\n",
      "Layers: 25 Nuerons: 28 R2 train: 0.722431472736 R2 test: 0.67402151836\n",
      "Layers: 25 Nuerons: 37 R2 train: 0.71759357364 R2 test: 0.659990250492\n",
      "Layers: 25 Nuerons: 46 R2 train: 0.725294319959 R2 test: 0.675682778064\n",
      "Layers: 25 Nuerons: 55 R2 train: 0.714111305237 R2 test: 0.653246293256\n",
      "Layers: 25 Nuerons: 64 R2 train: 0.7436081797 R2 test: 0.66002218449\n",
      "Layers: 25 Nuerons: 73 R2 train: 0.734778533631 R2 test: 0.653929741716\n",
      "Layers: 25 Nuerons: 82 R2 train: 0.767421780236 R2 test: 0.638206827302\n",
      "Layers: 25 Nuerons: 91 R2 train: 0.738957343155 R2 test: 0.676089550248\n",
      "Layers: 27 Nuerons: 1 R2 train: -0.00127067634039 R2 test: -0.00127067634039\n",
      "Layers: 27 Nuerons: 10 R2 train: -1.13706895839e-05 R2 test: -1.14215718108e-05\n",
      "Layers: 27 Nuerons: 19 R2 train: 1.74013464872e-05 R2 test: 2.23852121551e-05\n",
      "Layers: 27 Nuerons: 28 R2 train: 0.690687826981 R2 test: 0.657699171688\n",
      "Layers: 27 Nuerons: 37 R2 train: 0.740995975271 R2 test: 0.671830406644\n",
      "Layers: 27 Nuerons: 46 R2 train: 0.735013916753 R2 test: 0.667615495156\n",
      "Layers: 27 Nuerons: 55 R2 train: 0.701418639279 R2 test: 0.650860151733\n",
      "Layers: 27 Nuerons: 64 R2 train: 0.735017491676 R2 test: 0.67517161698\n",
      "Layers: 27 Nuerons: 73 R2 train: 0.724325974202 R2 test: 0.64933167454\n",
      "Layers: 27 Nuerons: 82 R2 train: 0.737584729578 R2 test: 0.678193685885\n",
      "Layers: 27 Nuerons: 91 R2 train: 0.739863917697 R2 test: 0.670919502019\n",
      "Layers: 29 Nuerons: 1 R2 train: -0.00129912091291 R2 test: -0.00129912091291\n",
      "Layers: 29 Nuerons: 10 R2 train: -5.5478842631e-07 R2 test: -5.54788426754e-07\n",
      "Layers: 29 Nuerons: 19 R2 train: 0.702947520643 R2 test: 0.674408310231\n",
      "Layers: 29 Nuerons: 28 R2 train: 0.700270464326 R2 test: 0.664582429826\n",
      "Layers: 29 Nuerons: 37 R2 train: 0.681240417167 R2 test: 0.660519806681\n",
      "Layers: 29 Nuerons: 46 R2 train: 0.714332516671 R2 test: 0.664897105457\n",
      "Layers: 29 Nuerons: 55 R2 train: 0.751482122937 R2 test: 0.67120256691\n",
      "Layers: 29 Nuerons: 64 R2 train: 0.72455326555 R2 test: 0.655873294123\n",
      "Layers: 29 Nuerons: 73 R2 train: 0.744474221501 R2 test: 0.618679043987\n",
      "Layers: 29 Nuerons: 82 R2 train: 0.750552860186 R2 test: 0.675492984258\n",
      "Layers: 29 Nuerons: 91 R2 train: 0.744810187969 R2 test: 0.68076385053\n",
      "Layers: 31 Nuerons: 1 R2 train: -0.000994251684431 R2 test: -0.000994251684431\n",
      "Layers: 31 Nuerons: 10 R2 train: 0.686810201412 R2 test: 0.660360081955\n",
      "Layers: 31 Nuerons: 19 R2 train: 0.711551684551 R2 test: 0.678254630838\n",
      "Layers: 31 Nuerons: 28 R2 train: 0.716317368484 R2 test: 0.68176234796\n",
      "Layers: 31 Nuerons: 37 R2 train: -0.000483523896347 R2 test: -0.000483522418041\n",
      "Layers: 31 Nuerons: 46 R2 train: 0.693873062892 R2 test: 0.627111928409\n",
      "Layers: 31 Nuerons: 55 R2 train: -0.000105087073905 R2 test: -0.000105586098911\n",
      "Layers: 31 Nuerons: 64 R2 train: 0.737561248855 R2 test: 0.671870225457\n",
      "Layers: 31 Nuerons: 73 R2 train: 0.744021087339 R2 test: 0.673594525272\n",
      "Layers: 31 Nuerons: 82 R2 train: 0.698816187727 R2 test: 0.659313085499\n",
      "Layers: 31 Nuerons: 91 R2 train: 0.745505229853 R2 test: 0.666613594461\n",
      "Layers: 33 Nuerons: 1 R2 train: -0.000356333029524 R2 test: -0.000356333029524\n",
      "Layers: 33 Nuerons: 10 R2 train: -3.08759086742e-06 R2 test: -3.08752045464e-06\n",
      "Layers: 33 Nuerons: 19 R2 train: -0.00109611696466 R2 test: -0.00109611855889\n",
      "Layers: 33 Nuerons: 28 R2 train: 0.725339533102 R2 test: 0.674780357745\n",
      "Layers: 33 Nuerons: 37 R2 train: 0.720610924596 R2 test: 0.68424171236\n",
      "Layers: 33 Nuerons: 46 R2 train: -0.000138023243174 R2 test: -0.000136827708694\n",
      "Layers: 33 Nuerons: 55 R2 train: 0.74006988927 R2 test: 0.676831364755\n",
      "Layers: 33 Nuerons: 64 R2 train: -0.000254553166348 R2 test: -0.000254553445833\n",
      "Layers: 33 Nuerons: 73 R2 train: 0.742896515992 R2 test: 0.664918321751\n",
      "Layers: 33 Nuerons: 82 R2 train: -0.00252129123159 R2 test: -0.00252129123092\n",
      "Layers: 33 Nuerons: 91 R2 train: -1.47026133179e-05 R2 test: -1.47064009552e-05\n",
      "Layers: 35 Nuerons: 1 R2 train: -0.00110588873754 R2 test: -0.00110588873754\n",
      "Layers: 35 Nuerons: 10 R2 train: -8.88901427132e-07 R2 test: -8.88901164009e-07\n",
      "Layers: 35 Nuerons: 19 R2 train: 0.000161975906553 R2 test: 0.000159262631224\n",
      "Layers: 35 Nuerons: 28 R2 train: -0.000142092858785 R2 test: -0.000142092885061\n",
      "Layers: 35 Nuerons: 37 R2 train: -1.097305999e-05 R2 test: -1.09713110374e-05\n",
      "Layers: 35 Nuerons: 46 R2 train: 0.679185641892 R2 test: 0.652055942372\n",
      "Layers: 35 Nuerons: 55 R2 train: -3.63326990089e-05 R2 test: -3.63326962576e-05\n",
      "Layers: 35 Nuerons: 64 R2 train: -7.55719472445e-06 R2 test: -7.55720881873e-06\n",
      "Layers: 35 Nuerons: 73 R2 train: -0.000119671521007 R2 test: -0.000119671403298\n",
      "Layers: 35 Nuerons: 82 R2 train: -0.000462110799619 R2 test: -0.000462110802452\n",
      "Layers: 35 Nuerons: 91 R2 train: -0.00220902181101 R2 test: -0.002209021811\n",
      "Layers: 37 Nuerons: 1 R2 train: -0.00136616690848 R2 test: -0.00136616690848\n",
      "Layers: 37 Nuerons: 10 R2 train: -1.07858576592e-05 R2 test: -1.07822663842e-05\n",
      "Layers: 37 Nuerons: 19 R2 train: -4.61273027856e-05 R2 test: -4.61274062142e-05\n",
      "Layers: 37 Nuerons: 28 R2 train: -0.000135488515002 R2 test: -0.000135488538332\n",
      "Layers: 37 Nuerons: 37 R2 train: -0.00167327167565 R2 test: -0.00167327167608\n",
      "Layers: 37 Nuerons: 46 R2 train: -3.422117024e-05 R2 test: -3.42211734556e-05\n",
      "Layers: 37 Nuerons: 55 R2 train: -0.0046580714344 R2 test: -0.00465807143298\n",
      "Layers: 37 Nuerons: 64 R2 train: -0.00303701542686 R2 test: -0.00303701542648\n",
      "Layers: 37 Nuerons: 73 R2 train: -0.00212538781019 R2 test: -0.00212538781019\n",
      "Layers: 37 Nuerons: 82 R2 train: -0.000514303128179 R2 test: -0.00051430312818\n",
      "Layers: 37 Nuerons: 91 R2 train: -0.000473949585842 R2 test: -0.000473949616134\n",
      "Layers: 39 Nuerons: 1 R2 train: -0.00140759683822 R2 test: -0.00140759683823\n",
      "Layers: 39 Nuerons: 10 R2 train: -2.23380057134e-05 R2 test: -2.23380059599e-05\n",
      "Layers: 39 Nuerons: 19 R2 train: -8.08839637934e-05 R2 test: -8.08839625612e-05\n",
      "Layers: 39 Nuerons: 28 R2 train: -0.00070643038147 R2 test: -0.000706430379627\n",
      "Layers: 39 Nuerons: 37 R2 train: -2.62685070032e-05 R2 test: -2.62686155839e-05\n",
      "Layers: 39 Nuerons: 46 R2 train: -0.0017908864856 R2 test: -0.00179088648562\n",
      "Layers: 39 Nuerons: 55 R2 train: -0.00278125427735 R2 test: -0.00278125427731\n",
      "Layers: 39 Nuerons: 64 R2 train: -0.00113486606171 R2 test: -0.0011348660617\n",
      "Layers: 39 Nuerons: 73 R2 train: -0.000195279009535 R2 test: -0.000195279009534\n",
      "Layers: 39 Nuerons: 82 R2 train: -7.64083675215e-05 R2 test: -7.64083690679e-05\n",
      "Layers: 39 Nuerons: 91 R2 train: -0.0019568090528 R2 test: -0.0019568090528\n"
     ]
    },
    {
     "data": {
      "image/png": "[encoded data removed]",
      "text/plain": [
       "<matplotlib.figure.Figure at 0x11145dbe0>"
      ]
     },
     "metadata": {},
     "output_type": "display_data"
    },
    {
     "data": {
      "image/png": "[encoded data removed]",
      "text/plain": [
       "<matplotlib.figure.Figure at 0x1115d8940>"
      ]
     },
     "metadata": {},
     "output_type": "display_data"
    },
    {
     "name": "stdout",
     "output_type": "stream",
     "text": [
      "R2 for test : 0.689284055484\n",
      "Layers : 7\n",
      "Nuerons : 28\n"
     ]
    }
   ],
   "source": [
    "NN_achitecture(X_train,Y_train['num_planets'],X_test,Y_test['num_planets'],N_neurons=100, N_layers=40,s_nuerons=9,s_layers=2)"
   ]
  },
  {
   "cell_type": "code",
   "execution_count": 10,
   "metadata": {
    "collapsed": false
   },
   "outputs": [
    {
     "name": "stderr",
     "output_type": "stream",
     "text": [
      "//anaconda/lib/python3.5/site-packages/sklearn/neural_network/multilayer_perceptron.py:312: VisibleDeprecationWarning: using a non-integer number instead of an integer will result in an error in the future\n",
      "  (fan_in, fan_out))\n",
      "//anaconda/lib/python3.5/site-packages/sklearn/neural_network/multilayer_perceptron.py:314: VisibleDeprecationWarning: using a non-integer number instead of an integer will result in an error in the future\n",
      "  fan_out)\n",
      "//anaconda/lib/python3.5/site-packages/sklearn/neural_network/multilayer_perceptron.py:364: VisibleDeprecationWarning: using a non-integer number instead of an integer will result in an error in the future\n",
      "  for n_fan_out in layer_units[1:])\n",
      "//anaconda/lib/python3.5/site-packages/sklearn/neural_network/multilayer_perceptron.py:368: VisibleDeprecationWarning: using a non-integer number instead of an integer will result in an error in the future\n",
      "  n_fan_out_ in zip(layer_units[:-1],\n",
      "//anaconda/lib/python3.5/site-packages/sklearn/neural_network/multilayer_perceptron.py:371: VisibleDeprecationWarning: using a non-integer number instead of an integer will result in an error in the future\n",
      "  intercept_grads = [np.empty(n_fan_out_) for n_fan_out_ in\n",
      "//anaconda/lib/python3.5/site-packages/sklearn/neural_network/multilayer_perceptron.py:674: VisibleDeprecationWarning: using a non-integer number instead of an integer will result in an error in the future\n",
      "  layer_units[i + 1])))\n"
     ]
    },
    {
     "name": "stdout",
     "output_type": "stream",
     "text": [
      "Layers: 1 Nuerons: 1 R2 train: 0.0104705109405 R2 test: 0.0101597102505\n",
      "Layers: 1 Nuerons: 6 R2 train: 0.244150056006 R2 test: 0.2245035137\n",
      "Layers: 1 Nuerons: 11 R2 train: 0.260268988308 R2 test: 0.236936597019\n",
      "Layers: 1 Nuerons: 16 R2 train: 0.231199913739 R2 test: 0.188519145876\n",
      "Layers: 1 Nuerons: 21 R2 train: 0.274154280577 R2 test: 0.210669304225\n",
      "Layers: 1 Nuerons: 26 R2 train: 0.33699009268 R2 test: 0.229013516362\n",
      "Layers: 1 Nuerons: 31 R2 train: 0.30613001609 R2 test: 0.224036830685\n",
      "Layers: 1 Nuerons: 36 R2 train: 0.283166808362 R2 test: 0.231346935597\n",
      "Layers: 1 Nuerons: 41 R2 train: 0.299016257159 R2 test: 0.228859077576\n",
      "Layers: 1 Nuerons: 46 R2 train: 0.288857234682 R2 test: 0.230891534971\n",
      "Layers: 3 Nuerons: 1 R2 train: -7.74645372421e-05 R2 test: -7.74645372417e-05\n",
      "Layers: 3 Nuerons: 6 R2 train: 0.391692642007 R2 test: 0.240353461299\n",
      "Layers: 3 Nuerons: 11 R2 train: 0.418173734281 R2 test: 0.200052855488\n",
      "Layers: 3 Nuerons: 16 R2 train: 0.44715361412 R2 test: 0.2120263101\n",
      "Layers: 3 Nuerons: 21 R2 train: 0.403732732633 R2 test: 0.247089532961\n",
      "Layers: 3 Nuerons: 26 R2 train: 0.572775886333 R2 test: 0.190597656152\n",
      "Layers: 3 Nuerons: 31 R2 train: 0.523018140489 R2 test: 0.203379587405\n",
      "Layers: 3 Nuerons: 36 R2 train: 0.558552886877 R2 test: 0.237337563462\n",
      "Layers: 3 Nuerons: 41 R2 train: 0.534346504194 R2 test: 0.222344923772\n",
      "Layers: 3 Nuerons: 46 R2 train: 0.552144447193 R2 test: 0.253578411972\n",
      "Layers: 5 Nuerons: 1 R2 train: -0.000516786913539 R2 test: -0.000516786913539\n",
      "Layers: 5 Nuerons: 6 R2 train: 0.422072470992 R2 test: 0.242819892103\n",
      "Layers: 5 Nuerons: 11 R2 train: 0.387150122134 R2 test: 0.178706564207\n",
      "Layers: 5 Nuerons: 16 R2 train: 0.505854170118 R2 test: 0.159859346821\n",
      "Layers: 5 Nuerons: 21 R2 train: 0.558858753788 R2 test: 0.174474089802\n",
      "Layers: 5 Nuerons: 26 R2 train: 0.596055764342 R2 test: 0.274418748933\n",
      "Layers: 5 Nuerons: 31 R2 train: 0.603914775526 R2 test: 0.10001750926\n",
      "Layers: 5 Nuerons: 36 R2 train: 0.414439200394 R2 test: 0.218315074587\n",
      "Layers: 5 Nuerons: 41 R2 train: 0.358300803754 R2 test: 0.0714217864062\n",
      "Layers: 5 Nuerons: 46 R2 train: 0.451642589895 R2 test: 0.160941022149\n",
      "Layers: 7 Nuerons: 1 R2 train: -0.00121541329318 R2 test: -0.00121541329318\n",
      "Layers: 7 Nuerons: 6 R2 train: 0.429489149042 R2 test: 0.119163816729\n",
      "Layers: 7 Nuerons: 11 R2 train: 0.483378406516 R2 test: 0.0899086062415\n",
      "Layers: 7 Nuerons: 16 R2 train: 0.490802336581 R2 test: 0.147673027254\n",
      "Layers: 7 Nuerons: 21 R2 train: 0.465786578237 R2 test: 0.165769638938\n",
      "Layers: 7 Nuerons: 26 R2 train: 0.388291853253 R2 test: 0.20384344143\n",
      "Layers: 7 Nuerons: 31 R2 train: 0.39657464326 R2 test: 0.192950809887\n",
      "Layers: 7 Nuerons: 36 R2 train: 0.645208747651 R2 test: 0.16696589598\n",
      "Layers: 7 Nuerons: 41 R2 train: 0.545912843287 R2 test: 0.189119947651\n",
      "Layers: 7 Nuerons: 46 R2 train: 0.466749410529 R2 test: 0.159994846717\n",
      "Layers: 9 Nuerons: 1 R2 train: -0.000134883143807 R2 test: -0.000134883143807\n",
      "Layers: 9 Nuerons: 6 R2 train: 0.440838651738 R2 test: 0.0158841638008\n",
      "Layers: 9 Nuerons: 11 R2 train: 0.37465112996 R2 test: 0.231422845256\n",
      "Layers: 9 Nuerons: 16 R2 train: 0.48353623186 R2 test: 0.0811360712364\n",
      "Layers: 9 Nuerons: 21 R2 train: 0.398311628989 R2 test: 0.117177809487\n",
      "Layers: 9 Nuerons: 26 R2 train: 0.391636260355 R2 test: 0.197815385153\n",
      "Layers: 9 Nuerons: 31 R2 train: 0.405154399095 R2 test: 0.163389198448\n",
      "Layers: 9 Nuerons: 36 R2 train: 0.569941453454 R2 test: 0.13776850625\n",
      "Layers: 9 Nuerons: 41 R2 train: 0.454557512248 R2 test: 0.128770011289\n",
      "Layers: 9 Nuerons: 46 R2 train: 0.356297489179 R2 test: 0.224610394825\n",
      "Layers: 11 Nuerons: 1 R2 train: -0.00101556322259 R2 test: -0.00101556322259\n",
      "Layers: 11 Nuerons: 6 R2 train: 0.384934904247 R2 test: 0.164683711699\n",
      "Layers: 11 Nuerons: 11 R2 train: 0.456310661196 R2 test: 0.159330511485\n",
      "Layers: 11 Nuerons: 16 R2 train: 0.402913272984 R2 test: 0.213910114657\n",
      "Layers: 11 Nuerons: 21 R2 train: 0.393849761958 R2 test: 0.174027808838\n",
      "Layers: 11 Nuerons: 26 R2 train: 0.416901347755 R2 test: 0.22327455082\n",
      "Layers: 11 Nuerons: 31 R2 train: 0.514292864266 R2 test: 0.193591740083\n",
      "Layers: 11 Nuerons: 36 R2 train: 0.611947507262 R2 test: 0.114550012796\n",
      "Layers: 11 Nuerons: 41 R2 train: 0.357818502617 R2 test: 0.225090532352\n",
      "Layers: 11 Nuerons: 46 R2 train: 0.190909580993 R2 test: 0.0474806006922\n",
      "Layers: 13 Nuerons: 1 R2 train: -0.000475325675497 R2 test: -0.000475325675497\n",
      "Layers: 13 Nuerons: 6 R2 train: 0.461830225028 R2 test: 0.21575037362\n",
      "Layers: 13 Nuerons: 11 R2 train: 0.42764638256 R2 test: 0.0641080915671\n",
      "Layers: 13 Nuerons: 16 R2 train: 0.494882804126 R2 test: 0.173078437612\n",
      "Layers: 13 Nuerons: 21 R2 train: 0.51178061295 R2 test: 0.105159858246\n",
      "Layers: 13 Nuerons: 26 R2 train: 0.356776744153 R2 test: 0.144686832704\n",
      "Layers: 13 Nuerons: 31 R2 train: 0.375167584954 R2 test: 0.219284994295\n",
      "Layers: 13 Nuerons: 36 R2 train: 0.47980672167 R2 test: 0.159313770251\n",
      "Layers: 13 Nuerons: 41 R2 train: 0.439637873335 R2 test: 0.187265378093\n",
      "Layers: 13 Nuerons: 46 R2 train: 0.454051698567 R2 test: 0.149970968642\n"
     ]
    },
    {
     "data": {
      "image/png": "[encoded data removed]",
      "text/plain": [
       "<matplotlib.figure.Figure at 0x1116315f8>"
      ]
     },
     "metadata": {},
     "output_type": "display_data"
    },
    {
     "data": {
      "image/png": "[encoded data removed]",
      "text/plain": [
       "<matplotlib.figure.Figure at 0x1093e8eb8>"
      ]
     },
     "metadata": {},
     "output_type": "display_data"
    },
    {
     "name": "stdout",
     "output_type": "stream",
     "text": [
      "R2 for test : 0.274418748933\n",
      "Layers : 11\n",
      "Nuerons : 26\n"
     ]
    }
   ],
   "source": [
    "NN_achitecture(X_train,Y_train['mass_efficiency'],X_test,Y_test['mass_efficiency'],50,15,5,2)"
   ]
  },
  {
   "cell_type": "code",
   "execution_count": 11,
   "metadata": {
    "collapsed": false
   },
   "outputs": [
    {
     "name": "stderr",
     "output_type": "stream",
     "text": [
      "//anaconda/lib/python3.5/site-packages/sklearn/neural_network/multilayer_perceptron.py:312: VisibleDeprecationWarning: using a non-integer number instead of an integer will result in an error in the future\n",
      "  (fan_in, fan_out))\n",
      "//anaconda/lib/python3.5/site-packages/sklearn/neural_network/multilayer_perceptron.py:314: VisibleDeprecationWarning: using a non-integer number instead of an integer will result in an error in the future\n",
      "  fan_out)\n",
      "//anaconda/lib/python3.5/site-packages/sklearn/neural_network/multilayer_perceptron.py:364: VisibleDeprecationWarning: using a non-integer number instead of an integer will result in an error in the future\n",
      "  for n_fan_out in layer_units[1:])\n",
      "//anaconda/lib/python3.5/site-packages/sklearn/neural_network/multilayer_perceptron.py:368: VisibleDeprecationWarning: using a non-integer number instead of an integer will result in an error in the future\n",
      "  n_fan_out_ in zip(layer_units[:-1],\n",
      "//anaconda/lib/python3.5/site-packages/sklearn/neural_network/multilayer_perceptron.py:371: VisibleDeprecationWarning: using a non-integer number instead of an integer will result in an error in the future\n",
      "  intercept_grads = [np.empty(n_fan_out_) for n_fan_out_ in\n",
      "//anaconda/lib/python3.5/site-packages/sklearn/neural_network/multilayer_perceptron.py:674: VisibleDeprecationWarning: using a non-integer number instead of an integer will result in an error in the future\n",
      "  layer_units[i + 1])))\n"
     ]
    },
    {
     "name": "stdout",
     "output_type": "stream",
     "text": [
      "Layers: 1 Nuerons: 1 R2 train: 0.105804289503 R2 test: 0.108207181202\n",
      "Layers: 1 Nuerons: 6 R2 train: 0.241534382576 R2 test: 0.2055737172\n",
      "Layers: 1 Nuerons: 11 R2 train: 0.206039724078 R2 test: 0.177978396534\n",
      "Layers: 1 Nuerons: 16 R2 train: 0.280476776929 R2 test: 0.219051970324\n",
      "Layers: 1 Nuerons: 21 R2 train: 0.270384363557 R2 test: 0.21553334374\n",
      "Layers: 1 Nuerons: 26 R2 train: 0.251954144044 R2 test: 0.187008056289\n",
      "Layers: 1 Nuerons: 31 R2 train: 0.298928168237 R2 test: 0.224744020509\n",
      "Layers: 1 Nuerons: 36 R2 train: 0.248040421881 R2 test: 0.201138027448\n",
      "Layers: 1 Nuerons: 41 R2 train: 0.308758167235 R2 test: 0.222483035583\n",
      "Layers: 1 Nuerons: 46 R2 train: 0.328590072112 R2 test: 0.223620171076\n",
      "Layers: 3 Nuerons: 1 R2 train: -0.00108119476846 R2 test: -0.00108119476846\n",
      "Layers: 3 Nuerons: 6 R2 train: 0.275537236319 R2 test: 0.187721202899\n",
      "Layers: 3 Nuerons: 11 R2 train: 0.329408875072 R2 test: 0.190420325498\n",
      "Layers: 3 Nuerons: 16 R2 train: 0.502987223889 R2 test: 0.138475945299\n",
      "Layers: 3 Nuerons: 21 R2 train: 0.417587668977 R2 test: 0.192567677045\n",
      "Layers: 3 Nuerons: 26 R2 train: 0.458615107352 R2 test: 0.200264722791\n",
      "Layers: 3 Nuerons: 31 R2 train: 0.47767197006 R2 test: 0.151208477886\n",
      "Layers: 3 Nuerons: 36 R2 train: 0.334410740547 R2 test: 0.199743309555\n",
      "Layers: 3 Nuerons: 41 R2 train: 0.50733003312 R2 test: 0.139969020112\n",
      "Layers: 3 Nuerons: 46 R2 train: 0.470272101967 R2 test: 0.19297503968\n",
      "Layers: 5 Nuerons: 1 R2 train: -0.000945107024211 R2 test: -0.000945107024211\n",
      "Layers: 5 Nuerons: 6 R2 train: 0.292454447092 R2 test: 0.209132703815\n",
      "Layers: 5 Nuerons: 11 R2 train: 0.391836619092 R2 test: 0.191800301457\n",
      "Layers: 5 Nuerons: 16 R2 train: 0.480563066301 R2 test: 0.142770566672\n",
      "Layers: 5 Nuerons: 21 R2 train: 0.496092367129 R2 test: 0.20510896019\n",
      "Layers: 5 Nuerons: 26 R2 train: 0.469714272952 R2 test: 0.175585052669\n",
      "Layers: 5 Nuerons: 31 R2 train: 0.542703778335 R2 test: 0.200386949768\n",
      "Layers: 5 Nuerons: 36 R2 train: 0.425328919882 R2 test: 0.201099792813\n",
      "Layers: 5 Nuerons: 41 R2 train: 0.796303306331 R2 test: -0.144268761338\n",
      "Layers: 5 Nuerons: 46 R2 train: 0.818232677492 R2 test: 0.0794500064244\n",
      "Layers: 7 Nuerons: 1 R2 train: -0.00120304324531 R2 test: -0.00120304324531\n",
      "Layers: 7 Nuerons: 6 R2 train: -1.02602071639e-06 R2 test: -1.23916974593e-06\n",
      "Layers: 7 Nuerons: 11 R2 train: 0.292008953047 R2 test: 0.17566114081\n",
      "Layers: 7 Nuerons: 16 R2 train: 0.350672669292 R2 test: 0.200488234486\n",
      "Layers: 7 Nuerons: 21 R2 train: 0.378078526157 R2 test: 0.190331700219\n",
      "Layers: 7 Nuerons: 26 R2 train: 0.452200277119 R2 test: 0.152285177261\n",
      "Layers: 7 Nuerons: 31 R2 train: 0.57195716359 R2 test: 0.133549924945\n",
      "Layers: 7 Nuerons: 36 R2 train: 0.33781074886 R2 test: 0.18174408694\n",
      "Layers: 7 Nuerons: 41 R2 train: 0.624072550827 R2 test: 0.187228886091\n",
      "Layers: 7 Nuerons: 46 R2 train: 0.175589924607 R2 test: 0.11797698174\n",
      "Layers: 9 Nuerons: 1 R2 train: -1.94919422825e-07 R2 test: -1.94919422825e-07\n",
      "Layers: 9 Nuerons: 6 R2 train: 0.35650197498 R2 test: 0.256878353273\n",
      "Layers: 9 Nuerons: 11 R2 train: 0.344854118335 R2 test: 0.190572894966\n",
      "Layers: 9 Nuerons: 16 R2 train: 0.410887910886 R2 test: 0.172373132309\n",
      "Layers: 9 Nuerons: 21 R2 train: 0.423683280603 R2 test: 0.141047808328\n",
      "Layers: 9 Nuerons: 26 R2 train: 0.462082041357 R2 test: 0.104566964331\n",
      "Layers: 9 Nuerons: 31 R2 train: 0.520723360629 R2 test: 0.0657719894177\n",
      "Layers: 9 Nuerons: 36 R2 train: 0.402250812296 R2 test: 0.216533219214\n",
      "Layers: 9 Nuerons: 41 R2 train: 0.521548897946 R2 test: 0.0961671870218\n",
      "Layers: 9 Nuerons: 46 R2 train: 0.44618544993 R2 test: 0.127183794476\n",
      "Layers: 11 Nuerons: 1 R2 train: -0.0016829764737 R2 test: -0.0016829764737\n",
      "Layers: 11 Nuerons: 6 R2 train: -2.49741741347e-05 R2 test: -4.13106031694e-05\n",
      "Layers: 11 Nuerons: 11 R2 train: 0.355970789029 R2 test: 0.220307394254\n",
      "Layers: 11 Nuerons: 16 R2 train: 0.310340807844 R2 test: 0.185433749717\n",
      "Layers: 11 Nuerons: 21 R2 train: 0.619829806118 R2 test: 0.12143634085\n",
      "Layers: 11 Nuerons: 26 R2 train: 0.405264364187 R2 test: 0.149654791174\n",
      "Layers: 11 Nuerons: 31 R2 train: 0.414577951475 R2 test: 0.163350057351\n",
      "Layers: 11 Nuerons: 36 R2 train: 0.391449205502 R2 test: 0.248973985506\n",
      "Layers: 11 Nuerons: 41 R2 train: 0.312383197702 R2 test: 0.082991253278\n",
      "Layers: 11 Nuerons: 46 R2 train: 0.412193271923 R2 test: 0.227200562324\n",
      "Layers: 13 Nuerons: 1 R2 train: -0.0013462319737 R2 test: -0.0013462319737\n",
      "Layers: 13 Nuerons: 6 R2 train: 0.287811394561 R2 test: 0.194325904996\n",
      "Layers: 13 Nuerons: 11 R2 train: 0.274002998106 R2 test: 0.218715998104\n",
      "Layers: 13 Nuerons: 16 R2 train: 0.487921857555 R2 test: 0.0607097435264\n",
      "Layers: 13 Nuerons: 21 R2 train: 0.582818518545 R2 test: 0.201625723277\n",
      "Layers: 13 Nuerons: 26 R2 train: 0.348612328026 R2 test: 0.213450094956\n",
      "Layers: 13 Nuerons: 31 R2 train: 0.346233203601 R2 test: 0.177864560455\n",
      "Layers: 13 Nuerons: 36 R2 train: 0.402005130663 R2 test: 0.18590333129\n",
      "Layers: 13 Nuerons: 41 R2 train: 0.537127600122 R2 test: 0.180781653184\n",
      "Layers: 13 Nuerons: 46 R2 train: 0.431432908371 R2 test: 0.149232913579\n"
     ]
    },
    {
     "data": {
      "image/png": "[encoded data removed]",
      "text/plain": [
       "<matplotlib.figure.Figure at 0x115f5fa90>"
      ]
     },
     "metadata": {},
     "output_type": "display_data"
    },
    {
     "data": {
      "image/png": "[encoded data removed]",
      "text/plain": [
       "<matplotlib.figure.Figure at 0x111704f98>"
      ]
     },
     "metadata": {},
     "output_type": "display_data"
    },
    {
     "name": "stdout",
     "output_type": "stream",
     "text": [
      "R2 for test : 0.256878353273\n",
      "Layers : 3\n",
      "Nuerons : 6\n"
     ]
    }
   ],
   "source": [
    "NN_achitecture(X_train,Y_train['solid_mass'],X_test,Y_test['solid_mass'],50,15,5,2)"
   ]
  },
  {
   "cell_type": "code",
   "execution_count": null,
   "metadata": {
    "collapsed": false
   },
   "outputs": [],
   "source": []
  },
  {
   "cell_type": "code",
   "execution_count": null,
   "metadata": {
    "collapsed": false
   },
   "outputs": [],
   "source": []
  },
  {
   "cell_type": "code",
   "execution_count": null,
   "metadata": {
    "collapsed": true
   },
   "outputs": [],
   "source": []
  }
 ],
 "metadata": {
  "anaconda-cloud": {},
  "kernelspec": {
   "display_name": "Python [Root]",
   "language": "python",
   "name": "Python [Root]"
  },
  "language_info": {
   "codemirror_mode": {
    "name": "ipython",
    "version": 3
   },
   "file_extension": ".py",
   "mimetype": "text/x-python",
   "name": "python",
   "nbconvert_exporter": "python",
   "pygments_lexer": "ipython3",
   "version": "3.5.2"
  }
 },
 "nbformat": 4,
 "nbformat_minor": 0
}
